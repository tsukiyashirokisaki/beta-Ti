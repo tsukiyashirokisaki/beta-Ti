{
 "cells": [
  {
   "cell_type": "code",
   "execution_count": 1,
   "metadata": {
    "colab": {
     "base_uri": "https://localhost:8080/",
     "height": 54
    },
    "colab_type": "code",
    "id": "D4Soge9zMUKF",
    "outputId": "e42c28d1-3dc9-4fa2-e1e9-f959d77c8e8c"
   },
   "outputs": [],
   "source": [
    "\n",
    "import torch\n",
    "import torch.nn.functional as F\n",
    "import pandas as pd\n",
    "import numpy as np\n",
    "import random\n",
    "import torch.nn as nn\n",
    "from sklearn.model_selection import train_test_split\n",
    "from sklearn.model_selection import KFold\n",
    "import os\n",
    "loss_func = nn.MSELoss() "
   ]
  },
  {
   "cell_type": "code",
   "execution_count": 9,
   "metadata": {
    "colab": {},
    "colab_type": "code",
    "id": "stp2IvqsMe9X"
   },
   "outputs": [
    {
     "name": "stdout",
     "output_type": "stream",
     "text": [
      "Index(['Ti', 'Nb', 'Zr', 'Sn', 'Mo', 'Ta', 'Mo_eq_at'], dtype='object')\n"
     ]
    }
   ],
   "source": [
    "df=pd.read_excel(\"../Ti_reg/tensile0811.xlsx\")\n",
    "num_colums = ['int16', 'int32', 'int64', 'float16', 'float32', 'float64']\n",
    "numerical_columns = list(df.select_dtypes(include=num_colums).columns)\n",
    "df = df[numerical_columns]\n",
    "df.drop(labels=['Ref.', 'Unnamed: 0'],axis=1, inplace=True)\n",
    "\n",
    "n=len(df)\n",
    "Y=df[\"E (GPa)\"]\n",
    "correlated_features = set()\n",
    "correlation_matrix = df.drop(labels=[\"E (GPa)\"],axis=1).corr()\n",
    "for i in range(len(correlation_matrix .columns)):\n",
    "    for j in range(i):\n",
    "        if abs(correlation_matrix.iloc[i, j]) > 0.8:\n",
    "            colname = correlation_matrix.columns[i]\n",
    "            correlated_features.add(colname)\n",
    "correlated_features.add(\"E (GPa)\")\n",
    "df.drop(labels=correlated_features, axis=1, inplace=True)\n",
    "col=df.columns\n",
    "X = torch.tensor(df.values).float().cuda()\n",
    "Y = torch.unsqueeze(torch.tensor(Y.values).float(),dim=1).cuda()\n",
    "del df\n",
    "print(col)"
   ]
  },
  {
   "cell_type": "code",
   "execution_count": 0,
   "metadata": {
    "colab": {},
    "colab_type": "code",
    "id": "_cgSxoGeMk-q"
   },
   "outputs": [],
   "source": []
  },
  {
   "cell_type": "code",
   "execution_count": 3,
   "metadata": {
    "colab": {},
    "colab_type": "code",
    "id": "nGVLMV_4Mn11"
   },
   "outputs": [],
   "source": [
    "df_t=pd.read_excel(\"../Ti_reg/tensile0811_test.xlsx\")\n",
    "x_te=df_t[col]\n",
    "y_te=df_t[\"E (GPa)\"]\n",
    "x__ = torch.tensor(x_te.values).float().cuda()\n",
    "y__ = torch.unsqueeze(torch.tensor(y_te.values).float(),dim=1).cuda()\n"
   ]
  },
  {
   "cell_type": "code",
   "execution_count": 0,
   "metadata": {
    "colab": {},
    "colab_type": "code",
    "id": "ZSK8rwLqLrA9"
   },
   "outputs": [],
   "source": []
  },
  {
   "cell_type": "code",
   "execution_count": 4,
   "metadata": {
    "colab": {
     "base_uri": "https://localhost:8080/",
     "height": 155
    },
    "colab_type": "code",
    "id": "GZ7bU1-KMpQH",
    "outputId": "d3f1111e-4c55-4241-cacb-a2bd8194b836"
   },
   "outputs": [
    {
     "name": "stdout",
     "output_type": "stream",
     "text": [
      "net7.91(test).pkl\n"
     ]
    },
    {
     "name": "stderr",
     "output_type": "stream",
     "text": [
      "C:\\ProgramData\\Anaconda3\\lib\\site-packages\\torch\\serialization.py:453: SourceChangeWarning: source code of class 'torch.nn.modules.linear.Linear' has changed. you can retrieve the original source code by accessing the object's source attribute or set `torch.nn.Module.dump_patches = True` and use the patch tool to revert the changes.\n",
      "  warnings.warn(msg, SourceChangeWarning)\n",
      "C:\\ProgramData\\Anaconda3\\lib\\site-packages\\torch\\serialization.py:453: SourceChangeWarning: source code of class 'torch.nn.modules.activation.Softplus' has changed. you can retrieve the original source code by accessing the object's source attribute or set `torch.nn.Module.dump_patches = True` and use the patch tool to revert the changes.\n",
      "  warnings.warn(msg, SourceChangeWarning)\n"
     ]
    },
    {
     "name": "stdout",
     "output_type": "stream",
     "text": [
      "[Sequential(\n",
      "  (0): Linear(in_features=7, out_features=15, bias=True)\n",
      "  (1): Softplus(beta=1, threshold=20)\n",
      "  (2): Linear(in_features=15, out_features=5, bias=True)\n",
      "  (3): Softplus(beta=1, threshold=20)\n",
      "  (4): Linear(in_features=5, out_features=1, bias=True)\n",
      "), Sequential(\n",
      "  (0): Linear(in_features=7, out_features=15, bias=True)\n",
      "  (1): Softplus(beta=1, threshold=20)\n",
      "  (2): Linear(in_features=15, out_features=5, bias=True)\n",
      "  (3): Softplus(beta=1, threshold=20)\n",
      "  (4): Linear(in_features=5, out_features=1, bias=True)\n",
      "), Sequential(\n",
      "  (0): Linear(in_features=7, out_features=15, bias=True)\n",
      "  (1): Softplus(beta=1, threshold=20)\n",
      "  (2): Linear(in_features=15, out_features=5, bias=True)\n",
      "  (3): Softplus(beta=1, threshold=20)\n",
      "  (4): Linear(in_features=5, out_features=1, bias=True)\n",
      "), Sequential(\n",
      "  (0): Linear(in_features=7, out_features=15, bias=True)\n",
      "  (1): Softplus(beta=1, threshold=20)\n",
      "  (2): Linear(in_features=15, out_features=5, bias=True)\n",
      "  (3): Softplus(beta=1, threshold=20)\n",
      "  (4): Linear(in_features=5, out_features=1, bias=True)\n",
      "), Sequential(\n",
      "  (0): Linear(in_features=7, out_features=15, bias=True)\n",
      "  (1): Softplus(beta=1, threshold=20)\n",
      "  (2): Linear(in_features=15, out_features=5, bias=True)\n",
      "  (3): Softplus(beta=1, threshold=20)\n",
      "  (4): Linear(in_features=5, out_features=1, bias=True)\n",
      "), Sequential(\n",
      "  (0): Linear(in_features=7, out_features=17, bias=True)\n",
      "  (1): Softplus(beta=1, threshold=20)\n",
      "  (2): Linear(in_features=17, out_features=1, bias=True)\n",
      "), Sequential(\n",
      "  (0): Linear(in_features=7, out_features=17, bias=True)\n",
      "  (1): Softplus(beta=1, threshold=20)\n",
      "  (2): Linear(in_features=17, out_features=1, bias=True)\n",
      "), Sequential(\n",
      "  (0): Linear(in_features=7, out_features=17, bias=True)\n",
      "  (1): Softplus(beta=1, threshold=20)\n",
      "  (2): Linear(in_features=17, out_features=1, bias=True)\n",
      "), Sequential(\n",
      "  (0): Linear(in_features=7, out_features=17, bias=True)\n",
      "  (1): Softplus(beta=1, threshold=20)\n",
      "  (2): Linear(in_features=17, out_features=1, bias=True)\n",
      "), Sequential(\n",
      "  (0): Linear(in_features=7, out_features=17, bias=True)\n",
      "  (1): Softplus(beta=1, threshold=20)\n",
      "  (2): Linear(in_features=17, out_features=1, bias=True)\n",
      "), Sequential(\n",
      "  (0): Linear(in_features=7, out_features=18, bias=True)\n",
      "  (1): Softplus(beta=1, threshold=20)\n",
      "  (2): Linear(in_features=18, out_features=1, bias=True)\n",
      "), Sequential(\n",
      "  (0): Linear(in_features=7, out_features=18, bias=True)\n",
      "  (1): Softplus(beta=1, threshold=20)\n",
      "  (2): Linear(in_features=18, out_features=1, bias=True)\n",
      "), Sequential(\n",
      "  (0): Linear(in_features=7, out_features=18, bias=True)\n",
      "  (1): Softplus(beta=1, threshold=20)\n",
      "  (2): Linear(in_features=18, out_features=1, bias=True)\n",
      "), Sequential(\n",
      "  (0): Linear(in_features=7, out_features=18, bias=True)\n",
      "  (1): Softplus(beta=1, threshold=20)\n",
      "  (2): Linear(in_features=18, out_features=1, bias=True)\n",
      "), Sequential(\n",
      "  (0): Linear(in_features=7, out_features=18, bias=True)\n",
      "  (1): Softplus(beta=1, threshold=20)\n",
      "  (2): Linear(in_features=18, out_features=1, bias=True)\n",
      "), Sequential(\n",
      "  (0): Linear(in_features=7, out_features=12, bias=True)\n",
      "  (1): Softplus(beta=1, threshold=20)\n",
      "  (2): Linear(in_features=12, out_features=1, bias=True)\n",
      "), Sequential(\n",
      "  (0): Linear(in_features=7, out_features=12, bias=True)\n",
      "  (1): Softplus(beta=1, threshold=20)\n",
      "  (2): Linear(in_features=12, out_features=1, bias=True)\n",
      "), Sequential(\n",
      "  (0): Linear(in_features=7, out_features=12, bias=True)\n",
      "  (1): Softplus(beta=1, threshold=20)\n",
      "  (2): Linear(in_features=12, out_features=1, bias=True)\n",
      "), Sequential(\n",
      "  (0): Linear(in_features=7, out_features=12, bias=True)\n",
      "  (1): Softplus(beta=1, threshold=20)\n",
      "  (2): Linear(in_features=12, out_features=1, bias=True)\n",
      "), Sequential(\n",
      "  (0): Linear(in_features=7, out_features=12, bias=True)\n",
      "  (1): Softplus(beta=1, threshold=20)\n",
      "  (2): Linear(in_features=12, out_features=1, bias=True)\n",
      "), Sequential(\n",
      "  (0): Linear(in_features=7, out_features=17, bias=True)\n",
      "  (1): Softplus(beta=1, threshold=20)\n",
      "  (2): Linear(in_features=17, out_features=1, bias=True)\n",
      "), Sequential(\n",
      "  (0): Linear(in_features=7, out_features=17, bias=True)\n",
      "  (1): Softplus(beta=1, threshold=20)\n",
      "  (2): Linear(in_features=17, out_features=1, bias=True)\n",
      "), Sequential(\n",
      "  (0): Linear(in_features=7, out_features=17, bias=True)\n",
      "  (1): Softplus(beta=1, threshold=20)\n",
      "  (2): Linear(in_features=17, out_features=1, bias=True)\n",
      "), Sequential(\n",
      "  (0): Linear(in_features=7, out_features=17, bias=True)\n",
      "  (1): Softplus(beta=1, threshold=20)\n",
      "  (2): Linear(in_features=17, out_features=1, bias=True)\n",
      "), Sequential(\n",
      "  (0): Linear(in_features=7, out_features=17, bias=True)\n",
      "  (1): Softplus(beta=1, threshold=20)\n",
      "  (2): Linear(in_features=17, out_features=1, bias=True)\n",
      "), Sequential(\n",
      "  (0): Linear(in_features=7, out_features=15, bias=True)\n",
      "  (1): Softplus(beta=1, threshold=20)\n",
      "  (2): Linear(in_features=15, out_features=5, bias=True)\n",
      "  (3): Softplus(beta=1, threshold=20)\n",
      "  (4): Linear(in_features=5, out_features=1, bias=True)\n",
      "), Sequential(\n",
      "  (0): Linear(in_features=7, out_features=15, bias=True)\n",
      "  (1): Softplus(beta=1, threshold=20)\n",
      "  (2): Linear(in_features=15, out_features=5, bias=True)\n",
      "  (3): Softplus(beta=1, threshold=20)\n",
      "  (4): Linear(in_features=5, out_features=1, bias=True)\n",
      "), Sequential(\n",
      "  (0): Linear(in_features=7, out_features=15, bias=True)\n",
      "  (1): Softplus(beta=1, threshold=20)\n",
      "  (2): Linear(in_features=15, out_features=5, bias=True)\n",
      "  (3): Softplus(beta=1, threshold=20)\n",
      "  (4): Linear(in_features=5, out_features=1, bias=True)\n",
      "), Sequential(\n",
      "  (0): Linear(in_features=7, out_features=15, bias=True)\n",
      "  (1): Softplus(beta=1, threshold=20)\n",
      "  (2): Linear(in_features=15, out_features=5, bias=True)\n",
      "  (3): Softplus(beta=1, threshold=20)\n",
      "  (4): Linear(in_features=5, out_features=1, bias=True)\n",
      "), Sequential(\n",
      "  (0): Linear(in_features=7, out_features=15, bias=True)\n",
      "  (1): Softplus(beta=1, threshold=20)\n",
      "  (2): Linear(in_features=15, out_features=5, bias=True)\n",
      "  (3): Softplus(beta=1, threshold=20)\n",
      "  (4): Linear(in_features=5, out_features=1, bias=True)\n",
      "), Sequential(\n",
      "  (0): Linear(in_features=7, out_features=17, bias=True)\n",
      "  (1): Softplus(beta=1, threshold=20)\n",
      "  (2): Linear(in_features=17, out_features=1, bias=True)\n",
      "), Sequential(\n",
      "  (0): Linear(in_features=7, out_features=17, bias=True)\n",
      "  (1): Softplus(beta=1, threshold=20)\n",
      "  (2): Linear(in_features=17, out_features=1, bias=True)\n",
      "), Sequential(\n",
      "  (0): Linear(in_features=7, out_features=17, bias=True)\n",
      "  (1): Softplus(beta=1, threshold=20)\n",
      "  (2): Linear(in_features=17, out_features=1, bias=True)\n",
      "), Sequential(\n",
      "  (0): Linear(in_features=7, out_features=17, bias=True)\n",
      "  (1): Softplus(beta=1, threshold=20)\n",
      "  (2): Linear(in_features=17, out_features=1, bias=True)\n",
      "), Sequential(\n",
      "  (0): Linear(in_features=7, out_features=17, bias=True)\n",
      "  (1): Softplus(beta=1, threshold=20)\n",
      "  (2): Linear(in_features=17, out_features=1, bias=True)\n",
      "), Sequential(\n",
      "  (0): Linear(in_features=7, out_features=18, bias=True)\n",
      "  (1): Softplus(beta=1, threshold=20)\n",
      "  (2): Linear(in_features=18, out_features=1, bias=True)\n",
      "), Sequential(\n",
      "  (0): Linear(in_features=7, out_features=18, bias=True)\n",
      "  (1): Softplus(beta=1, threshold=20)\n",
      "  (2): Linear(in_features=18, out_features=1, bias=True)\n",
      "), Sequential(\n",
      "  (0): Linear(in_features=7, out_features=18, bias=True)\n",
      "  (1): Softplus(beta=1, threshold=20)\n",
      "  (2): Linear(in_features=18, out_features=1, bias=True)\n",
      "), Sequential(\n",
      "  (0): Linear(in_features=7, out_features=18, bias=True)\n",
      "  (1): Softplus(beta=1, threshold=20)\n",
      "  (2): Linear(in_features=18, out_features=1, bias=True)\n",
      "), Sequential(\n",
      "  (0): Linear(in_features=7, out_features=18, bias=True)\n",
      "  (1): Softplus(beta=1, threshold=20)\n",
      "  (2): Linear(in_features=18, out_features=1, bias=True)\n",
      "), Sequential(\n",
      "  (0): Linear(in_features=7, out_features=12, bias=True)\n",
      "  (1): Softplus(beta=1, threshold=20)\n",
      "  (2): Linear(in_features=12, out_features=1, bias=True)\n",
      "), Sequential(\n",
      "  (0): Linear(in_features=7, out_features=12, bias=True)\n",
      "  (1): Softplus(beta=1, threshold=20)\n",
      "  (2): Linear(in_features=12, out_features=1, bias=True)\n",
      "), Sequential(\n",
      "  (0): Linear(in_features=7, out_features=12, bias=True)\n",
      "  (1): Softplus(beta=1, threshold=20)\n",
      "  (2): Linear(in_features=12, out_features=1, bias=True)\n",
      "), Sequential(\n",
      "  (0): Linear(in_features=7, out_features=12, bias=True)\n",
      "  (1): Softplus(beta=1, threshold=20)\n",
      "  (2): Linear(in_features=12, out_features=1, bias=True)\n",
      "), Sequential(\n",
      "  (0): Linear(in_features=7, out_features=12, bias=True)\n",
      "  (1): Softplus(beta=1, threshold=20)\n",
      "  (2): Linear(in_features=12, out_features=1, bias=True)\n",
      "), Sequential(\n",
      "  (0): Linear(in_features=7, out_features=17, bias=True)\n",
      "  (1): Softplus(beta=1, threshold=20)\n",
      "  (2): Linear(in_features=17, out_features=1, bias=True)\n",
      "), Sequential(\n",
      "  (0): Linear(in_features=7, out_features=17, bias=True)\n",
      "  (1): Softplus(beta=1, threshold=20)\n",
      "  (2): Linear(in_features=17, out_features=1, bias=True)\n",
      "), Sequential(\n",
      "  (0): Linear(in_features=7, out_features=17, bias=True)\n",
      "  (1): Softplus(beta=1, threshold=20)\n",
      "  (2): Linear(in_features=17, out_features=1, bias=True)\n",
      "), Sequential(\n",
      "  (0): Linear(in_features=7, out_features=17, bias=True)\n",
      "  (1): Softplus(beta=1, threshold=20)\n",
      "  (2): Linear(in_features=17, out_features=1, bias=True)\n",
      "), Sequential(\n",
      "  (0): Linear(in_features=7, out_features=17, bias=True)\n",
      "  (1): Softplus(beta=1, threshold=20)\n",
      "  (2): Linear(in_features=17, out_features=1, bias=True)\n"
     ]
    },
    {
     "name": "stdout",
     "output_type": "stream",
     "text": [
      ")]\n"
     ]
    }
   ],
   "source": [
    "path=\"../Ti_reg/tensile_best/\"\n",
    "name_list=[]\n",
    "for name in os.listdir(path):\n",
    "    if \".pkl\" in name:\n",
    "        name_list.append(name)\n",
    "def avg(x,can):\n",
    "    i=0\n",
    "    for net in can:\n",
    "        if i==0:\n",
    "            a=net(x)\n",
    "            i=1\n",
    "        else:\n",
    "            a+=net(x)\n",
    "    a/=len(can)\n",
    "        \n",
    "    return a\n",
    "\n",
    "net_list=[]\n",
    "\n",
    "for name in name_list:\n",
    "    print(name)\n",
    "    name=path+\"/\"+name\n",
    "    net = torch.load(name)\n",
    "    print(net)\n",
    "    net_list.append(net)\n",
    "    \n",
    "    #df_t[\"modulus\"]=(avg(x__,net)).cpu().detach().numpy()\n",
    "    # # this is for regression mean squared loss\n",
    "    #loss_a=loss_func(avg(X,net),Y).item()\n",
    "    #loss__=loss_func(avg(x__,net),y__).item()\n",
    "    #print(loss_a**0.5,loss__**0.5)\n",
    "    #print(net[1])\n",
    "#df_t[\"modulus\"]=(avg(x__,net_list[-1])).cpu().detach().numpy()\n",
    "#df_t.to_excel(path+\"//modulus0918.xlsx\")\n",
    "#net_list"
   ]
  },
  {
   "cell_type": "markdown",
   "metadata": {
    "colab_type": "text",
    "id": "nRE_j327hJKr"
   },
   "source": []
  },
  {
   "cell_type": "code",
   "execution_count": 0,
   "metadata": {
    "colab": {},
    "colab_type": "code",
    "id": "-ylLxUuYM5Sh"
   },
   "outputs": [],
   "source": [
    "\n",
    "def train():\n",
    "    f=X.shape[1]\n",
    "    act=nn.Softplus()\n",
    "    a=12\n",
    "    \n",
    "    net=nn.Sequential(\n",
    "        nn.Linear(f, a),\n",
    "        act,\n",
    "        nn.Linear(a, 1)).cuda()\n",
    "    #LR=random.randint(1,1000)/1000\n",
    "    LR=0.206\n",
    "    #a=random.randint(5,15)\n",
    "    #b=random.randint(5,15)\n",
    "    #c=random.randint(5,15)\n",
    "    #i=random.randint(0,1)\n",
    "    #j=random.randint(0,4)\n",
    "    loss_func = nn.MSELoss()  # this is for regression mean squared loss\n",
    "    #EPOCH=random.randint(100,1200)\n",
    "    EPOCH=718\n",
    "        \n",
    "    loss_=0\n",
    "    count=0\n",
    "    optimizer=torch.optim.Adam(net.parameters(), lr=LR, betas=(0.9, 0.99))\n",
    "    for t in range(EPOCH):  \n",
    "        \n",
    "        prediction = net(X)\n",
    "        loss = loss_func(prediction, Y)\n",
    "        optimizer.zero_grad()\n",
    "        loss.backward()\n",
    "        optimizer.step()\n",
    "    prediction = net(X)\n",
    "    loss = loss_func(prediction, Y)\n",
    "    print(\"%.3f\"%(loss))\n",
    "        \n",
    "    return loss,optimizer,EPOCH,LR,net\n",
    "\n"
   ]
  },
  {
   "cell_type": "code",
   "execution_count": 18,
   "metadata": {
    "colab": {
     "base_uri": "https://localhost:8080/",
     "height": 34
    },
    "colab_type": "code",
    "id": "vezIOLqgearg",
    "outputId": "14dd61dc-39d3-4ba6-ecc9-dee9b8baed93"
   },
   "outputs": [
    {
     "name": "stdout",
     "output_type": "stream",
     "text": [
      "8.445016183515799 7.905441303132016\n"
     ]
    }
   ],
   "source": [
    "N=[]\n",
    "for n in net_list:\n",
    "    N+=n\n",
    "\n",
    "loss_a=loss_func(avg(X,N),Y).item()\n",
    "loss__=loss_func(avg(x__,N),y__).item()\n",
    "print(loss_a**0.5,loss__**0.5)\n"
   ]
  },
  {
   "cell_type": "code",
   "execution_count": 0,
   "metadata": {
    "colab": {},
    "colab_type": "code",
    "id": "wA6FMKp1echL"
   },
   "outputs": [],
   "source": [
    "torch.save(N, 'drive/My Drive/Ti_reg/net7.91(test).pkl')"
   ]
  },
  {
   "cell_type": "code",
   "execution_count": 8,
   "metadata": {
    "colab": {
     "base_uri": "https://localhost:8080/",
     "height": 52
    },
    "colab_type": "code",
    "id": "HnH2r6jUfSV9",
    "outputId": "5f9546ea-f64d-4f90-db3a-dadc9281da74"
   },
   "outputs": [
    {
     "ename": "NameError",
     "evalue": "name 'avg' is not defined",
     "output_type": "error",
     "traceback": [
      "\u001b[1;31m---------------------------------------------------------------------------\u001b[0m",
      "\u001b[1;31mNameError\u001b[0m                                 Traceback (most recent call last)",
      "\u001b[1;32m<ipython-input-8-ec59813a2a59>\u001b[0m in \u001b[0;36m<module>\u001b[1;34m\u001b[0m\n\u001b[0;32m      1\u001b[0m \u001b[0mN\u001b[0m\u001b[1;33m=\u001b[0m\u001b[0mtorch\u001b[0m\u001b[1;33m.\u001b[0m\u001b[0mload\u001b[0m\u001b[1;33m(\u001b[0m\u001b[1;34m'8.04_not_remove.pkl'\u001b[0m\u001b[1;33m)\u001b[0m\u001b[1;33m\u001b[0m\u001b[1;33m\u001b[0m\u001b[0m\n\u001b[1;32m----> 2\u001b[1;33m \u001b[0mloss_a\u001b[0m\u001b[1;33m=\u001b[0m\u001b[0mloss_func\u001b[0m\u001b[1;33m(\u001b[0m\u001b[0mavg\u001b[0m\u001b[1;33m(\u001b[0m\u001b[0mX\u001b[0m\u001b[1;33m,\u001b[0m\u001b[0mN\u001b[0m\u001b[1;33m)\u001b[0m\u001b[1;33m,\u001b[0m\u001b[0mY\u001b[0m\u001b[1;33m)\u001b[0m\u001b[1;33m.\u001b[0m\u001b[0mitem\u001b[0m\u001b[1;33m(\u001b[0m\u001b[1;33m)\u001b[0m\u001b[1;33m\u001b[0m\u001b[1;33m\u001b[0m\u001b[0m\n\u001b[0m\u001b[0;32m      3\u001b[0m \u001b[0mloss__\u001b[0m\u001b[1;33m=\u001b[0m\u001b[0mloss_func\u001b[0m\u001b[1;33m(\u001b[0m\u001b[0mavg\u001b[0m\u001b[1;33m(\u001b[0m\u001b[0mx__\u001b[0m\u001b[1;33m,\u001b[0m\u001b[0mN\u001b[0m\u001b[1;33m)\u001b[0m\u001b[1;33m,\u001b[0m\u001b[0my__\u001b[0m\u001b[1;33m)\u001b[0m\u001b[1;33m.\u001b[0m\u001b[0mitem\u001b[0m\u001b[1;33m(\u001b[0m\u001b[1;33m)\u001b[0m\u001b[1;33m\u001b[0m\u001b[1;33m\u001b[0m\u001b[0m\n\u001b[0;32m      4\u001b[0m \u001b[0mprint\u001b[0m\u001b[1;33m(\u001b[0m\u001b[0mloss_a\u001b[0m\u001b[1;33m**\u001b[0m\u001b[1;36m0.5\u001b[0m\u001b[1;33m,\u001b[0m\u001b[0mloss__\u001b[0m\u001b[1;33m**\u001b[0m\u001b[1;36m0.5\u001b[0m\u001b[1;33m)\u001b[0m\u001b[1;33m\u001b[0m\u001b[1;33m\u001b[0m\u001b[0m\n\u001b[0;32m      5\u001b[0m \u001b[0mprint\u001b[0m\u001b[1;33m(\u001b[0m\u001b[1;34m\"MAPE= %f\"\u001b[0m\u001b[1;33m%\u001b[0m\u001b[1;33m(\u001b[0m\u001b[1;36m100\u001b[0m\u001b[1;33m*\u001b[0m\u001b[0msum\u001b[0m\u001b[1;33m(\u001b[0m\u001b[0mabs\u001b[0m\u001b[1;33m(\u001b[0m\u001b[0mavg\u001b[0m\u001b[1;33m(\u001b[0m\u001b[0mX\u001b[0m\u001b[1;33m,\u001b[0m\u001b[0mN\u001b[0m\u001b[1;33m)\u001b[0m\u001b[1;33m-\u001b[0m\u001b[0mY\u001b[0m\u001b[1;33m)\u001b[0m\u001b[1;33m/\u001b[0m\u001b[0mY\u001b[0m\u001b[1;33m)\u001b[0m\u001b[1;33m/\u001b[0m\u001b[0mlen\u001b[0m\u001b[1;33m(\u001b[0m\u001b[0mY\u001b[0m\u001b[1;33m)\u001b[0m\u001b[1;33m)\u001b[0m\u001b[1;33m)\u001b[0m\u001b[1;33m\u001b[0m\u001b[1;33m\u001b[0m\u001b[0m\n",
      "\u001b[1;31mNameError\u001b[0m: name 'avg' is not defined"
     ]
    }
   ],
   "source": [
    "N=torch.load('8.04_not_remove.pkl')\n",
    "loss_a=loss_func(avg(X,N),Y).item()\n",
    "loss__=loss_func(avg(x__,N),y__).item()\n",
    "print(loss_a**0.5,loss__**0.5)\n",
    "print(\"MAPE= %f\"%(100*sum(abs(avg(X,N)-Y)/Y)/len(Y)))"
   ]
  },
  {
   "cell_type": "code",
   "execution_count": null,
   "metadata": {
    "colab": {
     "base_uri": "https://localhost:8080/",
     "height": 121
    },
    "colab_type": "code",
    "id": "_zNi3kVkiiiN",
    "outputId": "a9b4d39a-c6af-4550-d95c-1239bedc9cd9"
   },
   "outputs": [],
   "source": []
  },
  {
   "cell_type": "code",
   "execution_count": 0,
   "metadata": {
    "colab": {},
    "colab_type": "code",
    "id": "NIRhlN0Q-Ot8"
   },
   "outputs": [],
   "source": []
  }
 ],
 "metadata": {
  "accelerator": "GPU",
  "colab": {
   "collapsed_sections": [],
   "name": "load_TS",
   "provenance": []
  },
  "kernelspec": {
   "display_name": "Python 3",
   "language": "python",
   "name": "python3"
  },
  "language_info": {
   "codemirror_mode": {
    "name": "ipython",
    "version": 3
   },
   "file_extension": ".py",
   "mimetype": "text/x-python",
   "name": "python",
   "nbconvert_exporter": "python",
   "pygments_lexer": "ipython3",
   "version": "3.7.4"
  }
 },
 "nbformat": 4,
 "nbformat_minor": 1
}
