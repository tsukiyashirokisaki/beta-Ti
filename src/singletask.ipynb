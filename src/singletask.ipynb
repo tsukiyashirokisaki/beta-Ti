{
 "cells": [
  {
   "cell_type": "code",
   "execution_count": 1,
   "metadata": {},
   "outputs": [],
   "source": [
    "import torch\n",
    "import pandas as pd\n",
    "import numpy as np\n",
    "import random\n",
    "import torch.nn as nn\n",
    "from sklearn.model_selection import train_test_split\n",
    "from sklearn.model_selection import KFold\n",
    "import matplotlib.pyplot as plt\n",
    "from func import loadMS_class,loadTS"
   ]
  },
  {
   "cell_type": "code",
   "execution_count": 10,
   "metadata": {},
   "outputs": [],
   "source": [
    "def splitTs():    \n",
    "    df = pd.read_excel(\"../data/tensile.xlsx\")\n",
    "    y = df[\"E (GPa)\"].values\n",
    "    col=['Ti', 'Nb', 'Zr', 'Sn', 'Mo', 'Ta']\n",
    "    x = df[col].values\n",
    "    del df\n",
    "    x_tr,x_te,y_tr,y_te= train_test_split(x, y, test_size=0.2,random_state=0)\n",
    "    mean = np.mean(x_tr, axis = 0) \n",
    "    std = np.std(x_tr, axis = 0)\n",
    "    for i in range(x_tr.shape[0]):\n",
    "        for j in range(x_tr.shape[1]):\n",
    "            if not std[j] == 0 :\n",
    "                x_tr[i][j] = (x_tr[i][j]- mean[j]) / std[j]\n",
    "    for i in range(x_te.shape[0]):\n",
    "        for j in range(x_te.shape[1]):\n",
    "            if not std[j] == 0 :\n",
    "                x_te[i][j] = (x_te[i][j]- mean[j]) / std[j]\n",
    "\n",
    "    x_tr = torch.tensor(x_tr).float()\n",
    "    x_te = torch.tensor(x_te).float()\n",
    "    y_tr = torch.unsqueeze(torch.tensor(y_tr).float(),dim=1)\n",
    "    y_te = torch.unsqueeze(torch.tensor(y_te).float(),dim=1)\n",
    "    return x_tr,x_te,y_tr,y_te\n",
    "def splitMs():\n",
    "    df = pd.read_excel(\"../data/stability.xlsx\")\n",
    "    col=['Ti', 'Nb', 'Zr', 'Sn', 'Mo', 'Ta']\n",
    "    x = df[col].values\n",
    "    y = df[\"stability\"].values\n",
    "    x_tr,x_te,y_tr,y_te= train_test_split(x, y, test_size=0.2, random_state=0)\n",
    "    mean = np.mean(x_tr, axis = 0) \n",
    "    std = np.std(x_tr, axis = 0)\n",
    "    for i in range(x_tr.shape[0]):\n",
    "        for j in range(x_tr.shape[1]):\n",
    "            if not std[j] == 0 :\n",
    "                x_tr[i][j] = (x_tr[i][j]- mean[j]) / std[j]\n",
    "    for i in range(x_te.shape[0]):\n",
    "        for j in range(x_te.shape[1]):\n",
    "            if not std[j] == 0 :\n",
    "                x_te[i][j] = (x_te[i][j]- mean[j]) / std[j]\n",
    "\n",
    "    x_tr = torch.tensor(x_tr).float()\n",
    "    x_te = torch.tensor(x_te).float()\n",
    "    y_tr = torch.unsqueeze(torch.tensor(y_tr).float(),dim=1)\n",
    "    y_te = torch.unsqueeze(torch.tensor(y_te).float(),dim=1)\n",
    "    return x_tr,x_te,y_tr,y_te\n",
    "def accuracy(pred,label):\n",
    "    return np.mean((pred.detach().numpy()>0.5) == label.detach().numpy())\n",
    "def train(s,net,lr,TsDataset,MsDataset,epoch=3000,reg=True,name=\"\"):\n",
    "    opt = torch.optim.Adam(net.parameters(),lr=lr)\n",
    "    torch.manual_seed(s)\n",
    "    for i in range(epoch):\n",
    "        if reg:\n",
    "            x_tr,x_te,y_tr,y_te = TsDataset\n",
    "            mse_tr = lossMSE(net(x_tr),y_tr)\n",
    "            mse_te = lossMSE(net(x_te.detach()),y_te.detach()).item()\n",
    "            loss = mse_tr\n",
    "            if i==0:\n",
    "                best_mse = mse_te\n",
    "            else:\n",
    "                if mse_te < best_mse:\n",
    "                    best_mse = mse_te\n",
    "                    if mse_te < 100:\n",
    "                        torch.save(net,\"../single/reg/%.2f_%d_%d_%s.pkl\"%(mse_te,s,i,name))                                \n",
    "        else:\n",
    "            x_tr,x_te,y_tr,y_te = MsDataset\n",
    "            loss = lossBCE(sig(net(x_tr)),y_tr)\n",
    "            acc_tr = accuracy(sig(net(x_tr.detach())),y_tr.detach()).item()\n",
    "            acc_te = accuracy(sig(net(x_te.detach())),y_te.detach()).item()\n",
    "            if i == 0:\n",
    "                best_acc = acc_te\n",
    "            else:\n",
    "                if acc_te > best_acc:\n",
    "                    best_acc = acc_te\n",
    "                    if acc_te > 0.85:\n",
    "                        torch.save(net,\"../single/cls/%.2f_%d_%d_%s.pkl\"%(acc_te,s,i,name))\n",
    "#             print(acc_te)\n",
    "        opt.zero_grad()\n",
    "        loss.backward()\n",
    "        opt.step()\n",
    "#         print(\"%.2f %.2f %.2f %.2f\"%(mse_tr,mse_te,acc_tr,acc_te))\n",
    "        \n",
    "                "
   ]
  },
  {
   "cell_type": "code",
   "execution_count": 11,
   "metadata": {},
   "outputs": [],
   "source": [
    "TsDataset = splitTs()\n",
    "MsDataset = splitMs()\n",
    "m_list=np.arange(5,31)\n",
    "lr_list=np.arange(0.01,0.11,0.01)\n",
    "act_list=[nn.PReLU(),nn.CELU(),nn.SELU(),nn.Softplus(),nn.ReLU()]\n",
    "lossMSE = nn.MSELoss()\n",
    "lossBCE = nn.BCELoss()\n",
    "sig = nn.Sigmoid()\n",
    "f = TsDataset[0].shape[1]\n",
    "for reg in [False]:\n",
    "    for act in act_list:\n",
    "        for m in m_list:\n",
    "            for lr in lr_list:            \n",
    "                net=nn.Sequential(\n",
    "                            nn.Linear(f, m),\n",
    "                            act,\n",
    "                            nn.Linear(m, 1))\n",
    "                train(0,net,lr,TsDataset,MsDataset,epoch=2000,reg=reg,name=\"%s_%d_%.2f\"%(act,m,lr))        \n",
    "    \n",
    "    \n",
    "    \n",
    "    \n",
    "    \n",
    "    \n",
    "    "
   ]
  },
  {
   "cell_type": "code",
   "execution_count": 12,
   "metadata": {},
   "outputs": [
    {
     "ename": "KeyboardInterrupt",
     "evalue": "",
     "output_type": "error",
     "traceback": [
      "\u001b[0;31m---------------------------------------------------------------------------\u001b[0m",
      "\u001b[0;31mKeyboardInterrupt\u001b[0m                         Traceback (most recent call last)",
      "\u001b[0;32m<ipython-input-12-2d1786b4cf4c>\u001b[0m in \u001b[0;36m<module>\u001b[0;34m\u001b[0m\n\u001b[1;32m     18\u001b[0m                             \u001b[0mact\u001b[0m\u001b[0;34m,\u001b[0m\u001b[0;34m\u001b[0m\u001b[0;34m\u001b[0m\u001b[0m\n\u001b[1;32m     19\u001b[0m                             nn.Linear(m, 1))\n\u001b[0;32m---> 20\u001b[0;31m                 \u001b[0mtrain\u001b[0m\u001b[0;34m(\u001b[0m\u001b[0ms\u001b[0m\u001b[0;34m,\u001b[0m\u001b[0mnet\u001b[0m\u001b[0;34m,\u001b[0m\u001b[0mlr\u001b[0m\u001b[0;34m,\u001b[0m\u001b[0mTsDataset\u001b[0m\u001b[0;34m,\u001b[0m\u001b[0mMsDataset\u001b[0m\u001b[0;34m,\u001b[0m\u001b[0mepoch\u001b[0m\u001b[0;34m=\u001b[0m\u001b[0;36m2000\u001b[0m\u001b[0;34m,\u001b[0m\u001b[0mreg\u001b[0m\u001b[0;34m=\u001b[0m\u001b[0mreg\u001b[0m\u001b[0;34m,\u001b[0m\u001b[0mname\u001b[0m\u001b[0;34m=\u001b[0m\u001b[0;34m\"%s_%d_%.2f\"\u001b[0m\u001b[0;34m%\u001b[0m\u001b[0;34m(\u001b[0m\u001b[0mact\u001b[0m\u001b[0;34m,\u001b[0m\u001b[0mm\u001b[0m\u001b[0;34m,\u001b[0m\u001b[0mlr\u001b[0m\u001b[0;34m)\u001b[0m\u001b[0;34m)\u001b[0m\u001b[0;34m\u001b[0m\u001b[0;34m\u001b[0m\u001b[0m\n\u001b[0m\u001b[1;32m     21\u001b[0m \u001b[0;34m\u001b[0m\u001b[0m\n\u001b[1;32m     22\u001b[0m \u001b[0;34m\u001b[0m\u001b[0m\n",
      "\u001b[0;32m<ipython-input-10-8e1e4abbe346>\u001b[0m in \u001b[0;36mtrain\u001b[0;34m(s, net, lr, TsDataset, MsDataset, epoch, reg, name)\u001b[0m\n\u001b[1;32m     77\u001b[0m         \u001b[0mopt\u001b[0m\u001b[0;34m.\u001b[0m\u001b[0mzero_grad\u001b[0m\u001b[0;34m(\u001b[0m\u001b[0;34m)\u001b[0m\u001b[0;34m\u001b[0m\u001b[0;34m\u001b[0m\u001b[0m\n\u001b[1;32m     78\u001b[0m         \u001b[0mloss\u001b[0m\u001b[0;34m.\u001b[0m\u001b[0mbackward\u001b[0m\u001b[0;34m(\u001b[0m\u001b[0;34m)\u001b[0m\u001b[0;34m\u001b[0m\u001b[0;34m\u001b[0m\u001b[0m\n\u001b[0;32m---> 79\u001b[0;31m         \u001b[0mopt\u001b[0m\u001b[0;34m.\u001b[0m\u001b[0mstep\u001b[0m\u001b[0;34m(\u001b[0m\u001b[0;34m)\u001b[0m\u001b[0;34m\u001b[0m\u001b[0;34m\u001b[0m\u001b[0m\n\u001b[0m\u001b[1;32m     80\u001b[0m \u001b[0;31m#         print(\"%.2f %.2f %.2f %.2f\"%(mse_tr,mse_te,acc_tr,acc_te))\u001b[0m\u001b[0;34m\u001b[0m\u001b[0;34m\u001b[0m\u001b[0;34m\u001b[0m\u001b[0m\n\u001b[1;32m     81\u001b[0m \u001b[0;34m\u001b[0m\u001b[0m\n",
      "\u001b[0;32m~/anaconda3/lib/python3.7/site-packages/torch/optim/adam.py\u001b[0m in \u001b[0;36mstep\u001b[0;34m(self, closure)\u001b[0m\n\u001b[1;32m     92\u001b[0m                 \u001b[0;31m# Decay the first and second moment running average coefficient\u001b[0m\u001b[0;34m\u001b[0m\u001b[0;34m\u001b[0m\u001b[0;34m\u001b[0m\u001b[0m\n\u001b[1;32m     93\u001b[0m                 \u001b[0mexp_avg\u001b[0m\u001b[0;34m.\u001b[0m\u001b[0mmul_\u001b[0m\u001b[0;34m(\u001b[0m\u001b[0mbeta1\u001b[0m\u001b[0;34m)\u001b[0m\u001b[0;34m.\u001b[0m\u001b[0madd_\u001b[0m\u001b[0;34m(\u001b[0m\u001b[0;36m1\u001b[0m \u001b[0;34m-\u001b[0m \u001b[0mbeta1\u001b[0m\u001b[0;34m,\u001b[0m \u001b[0mgrad\u001b[0m\u001b[0;34m)\u001b[0m\u001b[0;34m\u001b[0m\u001b[0;34m\u001b[0m\u001b[0m\n\u001b[0;32m---> 94\u001b[0;31m                 \u001b[0mexp_avg_sq\u001b[0m\u001b[0;34m.\u001b[0m\u001b[0mmul_\u001b[0m\u001b[0;34m(\u001b[0m\u001b[0mbeta2\u001b[0m\u001b[0;34m)\u001b[0m\u001b[0;34m.\u001b[0m\u001b[0maddcmul_\u001b[0m\u001b[0;34m(\u001b[0m\u001b[0;36m1\u001b[0m \u001b[0;34m-\u001b[0m \u001b[0mbeta2\u001b[0m\u001b[0;34m,\u001b[0m \u001b[0mgrad\u001b[0m\u001b[0;34m,\u001b[0m \u001b[0mgrad\u001b[0m\u001b[0;34m)\u001b[0m\u001b[0;34m\u001b[0m\u001b[0;34m\u001b[0m\u001b[0m\n\u001b[0m\u001b[1;32m     95\u001b[0m                 \u001b[0;32mif\u001b[0m \u001b[0mamsgrad\u001b[0m\u001b[0;34m:\u001b[0m\u001b[0;34m\u001b[0m\u001b[0;34m\u001b[0m\u001b[0m\n\u001b[1;32m     96\u001b[0m                     \u001b[0;31m# Maintains the maximum of all 2nd moment running avg. till now\u001b[0m\u001b[0;34m\u001b[0m\u001b[0;34m\u001b[0m\u001b[0;34m\u001b[0m\u001b[0m\n",
      "\u001b[0;31mKeyboardInterrupt\u001b[0m: "
     ]
    }
   ],
   "source": [
    "TsDataset = splitTs()\n",
    "MsDataset = splitMs()\n",
    "m_list=np.arange(5,31)\n",
    "lr_list=np.arange(0.01,0.11,0.01)\n",
    "act_list=[nn.PReLU(),nn.CELU(),nn.SELU(),nn.Softplus(),nn.ReLU()]\n",
    "lossMSE = nn.MSELoss()\n",
    "lossBCE = nn.BCELoss()\n",
    "sig = nn.Sigmoid()\n",
    "f = TsDataset[0].shape[1]\n",
    "reg = True\n",
    "for s in range(1,10):\n",
    "    for act in act_list:\n",
    "        for m in m_list:\n",
    "            for lr in lr_list:\n",
    "                \n",
    "                net=nn.Sequential(\n",
    "                            nn.Linear(f, m),\n",
    "                            act,\n",
    "                            nn.Linear(m, 1))\n",
    "                train(s,net,lr,TsDataset,MsDataset,epoch=2000,reg=reg,name=\"%s_%d_%.2f\"%(act,m,lr))        \n",
    "    \n",
    "    \n",
    "    \n",
    "    \n",
    "    \n",
    "    \n",
    "    "
   ]
  },
  {
   "cell_type": "code",
   "execution_count": 15,
   "metadata": {},
   "outputs": [
    {
     "data": {
      "text/plain": [
       "tensor(40.4983, grad_fn=<MseLossBackward>)"
      ]
     },
     "execution_count": 15,
     "metadata": {},
     "output_type": "execute_result"
    }
   ],
   "source": [
    "net = torch.load(\"../models/40.50_0.92_0_1913_10_CELU(alpha=1.0)_26_0.06.pkl\")\n",
    "x_tr,x_te,y_tr,y_te = TsDataset\n",
    "lossMSE(net(x_te)[:,0:1],y_te)"
   ]
  },
  {
   "cell_type": "code",
   "execution_count": 26,
   "metadata": {},
   "outputs": [],
   "source": []
  },
  {
   "cell_type": "code",
   "execution_count": 33,
   "metadata": {},
   "outputs": [],
   "source": [
    "multi = model(x_te)[:,0].detach().numpy()"
   ]
  },
  {
   "cell_type": "code",
   "execution_count": 34,
   "metadata": {},
   "outputs": [],
   "source": [
    "svr = np.load(\"svr.npy\")\n",
    "xgb = np.load(\"xgb.npy\")"
   ]
  },
  {
   "cell_type": "code",
   "execution_count": 45,
   "metadata": {},
   "outputs": [],
   "source": [
    "mean = np.mean(np.array([multi,svr,xgb]),axis=0)\n",
    "std = np.std(np.array([multi,svr,xgb]),axis=0)"
   ]
  },
  {
   "cell_type": "code",
   "execution_count": 47,
   "metadata": {},
   "outputs": [
    {
     "data": {
      "text/plain": [
       "<matplotlib.legend.Legend at 0x294ee5f66d0>"
      ]
     },
     "execution_count": 47,
     "metadata": {},
     "output_type": "execute_result"
    },
    {
     "data": {
      "image/png": "[encoded data removed]",
      "text/plain": [
       "<Figure size 432x288 with 1 Axes>"
      ]
     },
     "metadata": {
      "needs_background": "light"
     },
     "output_type": "display_data"
    }
   ],
   "source": [
    "import matplotlib.pyplot as plt\n",
    "p1,=plt.plot(np.arange(len(mean)),mean+std)\n",
    "p2,=plt.plot(np.arange(len(mean)),mean-std)\n",
    "p3,=plt.plot(np.arange(len(mean)),y_te.detach().numpy().reshape(-1))\n",
    "plt.legend([p1,p2,p3],[\"up\",\"low\",\"truth\"])"
   ]
  },
  {
   "cell_type": "code",
   "execution_count": null,
   "metadata": {},
   "outputs": [],
   "source": []
  },
  {
   "cell_type": "code",
   "execution_count": null,
   "metadata": {},
   "outputs": [],
   "source": []
  },
  {
   "cell_type": "code",
   "execution_count": null,
   "metadata": {},
   "outputs": [],
   "source": []
  }
 ],
 "metadata": {
  "kernelspec": {
   "display_name": "Python 3",
   "language": "python",
   "name": "python3"
  },
  "language_info": {
   "codemirror_mode": {
    "name": "ipython",
    "version": 3
   },
   "file_extension": ".py",
   "mimetype": "text/x-python",
   "name": "python",
   "nbconvert_exporter": "python",
   "pygments_lexer": "ipython3",
   "version": "3.7.4"
  }
 },
 "nbformat": 4,
 "nbformat_minor": 5
}
