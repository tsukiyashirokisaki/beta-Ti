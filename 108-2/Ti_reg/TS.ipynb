{
 "cells": [
  {
   "cell_type": "code",
   "execution_count": 40,
   "metadata": {
    "colab": {
     "base_uri": "https://localhost:8080/",
     "height": 54
    },
    "colab_type": "code",
    "id": "NTQYmIhACCss",
    "outputId": "ccbae02b-7f82-48d4-ce4d-59dbcaecf322"
   },
   "outputs": [],
   "source": [
    "import torch\n",
    "import torch.nn.functional as F\n",
    "import pandas as pd\n",
    "import numpy as np\n",
    "import random\n",
    "import torch.nn as nn\n",
    "from sklearn.model_selection import train_test_split\n",
    "from sklearn.model_selection import KFold\n",
    "import matplotlib.pyplot as plt"
   ]
  },
  {
   "cell_type": "code",
   "execution_count": 42,
   "metadata": {
    "colab": {},
    "colab_type": "code",
    "id": "C7LWPRwICrYZ"
   },
   "outputs": [],
   "source": [
    "df=pd.concat([pd.read_excel(\"../../data/tensile0811.xlsx\",sheet_name = \"exp\"),pd.read_excel(\"../../data/tensile0811.xlsx\",sheet_name = \"train\")])\n",
    "df.drop(labels=['Ref.', 'Unnamed: 0'],axis=1, inplace=True)\n",
    "y = df[\"E (GPa)\"].values\n",
    "col=['Ti', 'Nb', 'Zr', 'Sn', 'Mo', 'Ta']\n",
    "x = df[col].values\n"
   ]
  },
  {
   "cell_type": "code",
   "execution_count": 43,
   "metadata": {
    "colab": {
     "base_uri": "https://localhost:8080/",
     "height": 34
    },
    "colab_type": "code",
    "id": "E3BV1-k1DbMj",
    "outputId": "363d1946-734b-4e7a-9d9d-3547a15ca337"
   },
   "outputs": [
    {
     "name": "stdout",
     "output_type": "stream",
     "text": [
      "['Ti', 'Nb', 'Zr', 'Sn', 'Mo', 'Ta']\n"
     ]
    }
   ],
   "source": [
    "del df\n",
    "x_tr,x_te,y_tr,y_te= train_test_split(x, y, test_size=0.2)\n",
    "mean = np.mean(x_tr, axis = 0) \n",
    "std = np.std(x_tr, axis = 0)\n",
    "for i in range(x_tr.shape[0]):\n",
    "    for j in range(x_tr.shape[1]):\n",
    "        if not std[j] == 0 :\n",
    "            x_tr[i][j] = (x_tr[i][j]- mean[j]) / std[j]\n",
    "for i in range(x_te.shape[0]):\n",
    "    for j in range(x_te.shape[1]):\n",
    "        if not std[j] == 0 :\n",
    "            x_te[i][j] = (x_te[i][j]- mean[j]) / std[j]\n",
    "\n",
    "x_tr = torch.tensor(x_tr).float()\n",
    "x_te = torch.tensor(x_te).float()\n",
    "y_tr = torch.unsqueeze(torch.tensor(y_tr).float(),dim=1)\n",
    "y_te = torch.unsqueeze(torch.tensor(y_te).float(),dim=1)\n",
    "print(col)\n"
   ]
  },
  {
   "cell_type": "code",
   "execution_count": 44,
   "metadata": {
    "colab": {
     "base_uri": "https://localhost:8080/",
     "height": 155
    },
    "colab_type": "code",
    "id": "ZLhSPnOsD-iR",
    "outputId": "2c869317-b91a-4196-cd6f-e7b5cf2cf636"
   },
   "outputs": [
    {
     "name": "stdout",
     "output_type": "stream",
     "text": [
      "6.498447232744725 0.04 19 1689 ReLU()\n"
     ]
    }
   ],
   "source": [
    "loss_func = nn.MSELoss()\n",
    "f=x.shape[1]    \n",
    "def train(s,LR,a,EPOCH,act):\n",
    "    torch.manual_seed(s)\n",
    "    net=nn.Sequential(\n",
    "        nn.Linear(f, a),\n",
    "        act,\n",
    "        nn.Linear(a, 1))\n",
    "    optimizer=torch.optim.Adam(net.parameters(), lr=LR, betas=(0.9, 0.99)) \n",
    "    for t in range(EPOCH):  \n",
    "        prediction = net(x_tr)\n",
    "        loss = loss_func(prediction, y_tr)\n",
    "        optimizer.zero_grad()\n",
    "        loss.backward()\n",
    "        optimizer.step()\n",
    "        now=loss_func(net(x_te),y_te)\n",
    "        \n",
    "        if t==0:\n",
    "            loss_ = now\n",
    "            best_ep=1\n",
    "        else:\n",
    "            if loss_ > now:\n",
    "                loss_=now\n",
    "                best_ep=t+1\n",
    "    return loss_.item()**0.5,best_ep,net\n",
    "#act_list=[nn.PReLU(),nn.CELU(),nn.SELU(),nn.Softplus(),nn.ReLU()]\n",
    "act_list=[nn.ReLU()]\n",
    "c=0\n",
    "for act in act_list:\n",
    "    for i in range(1,5):\n",
    "        LR=i/100\n",
    "        for a in range(10,20):\n",
    "            if c==0:\n",
    "                best_l,best_ep,_=train(0,LR,a,2000,act)\n",
    "                best_lr=LR\n",
    "                best_a=a\n",
    "                c+=1\n",
    "            else:\n",
    "                l,ep,_=train(0,LR,a,2000,act)\n",
    "                if l<best_l:\n",
    "                    best_act=act\n",
    "                    best_l=l\n",
    "                    best_lr=LR\n",
    "                    best_ep=ep\n",
    "                    best_a=a\n",
    "        #print(act,l)\n",
    "print(best_l,best_lr,best_a,best_ep,best_act)"
   ]
  },
  {
   "cell_type": "code",
   "execution_count": 45,
   "metadata": {
    "colab": {
     "base_uri": "https://localhost:8080/",
     "height": 467
    },
    "colab_type": "code",
    "id": "NeGfqD6ZEjR1",
    "outputId": "302c41d8-4b3e-4035-ad7c-a6ed701a8dc6"
   },
   "outputs": [
    {
     "name": "stdout",
     "output_type": "stream",
     "text": [
      "6.498447232744725\n"
     ]
    }
   ],
   "source": [
    "for s in range(10):\n",
    "    l,ep,net=train(s,best_lr,best_a,best_ep,best_act)\n",
    "    if s==0:\n",
    "        l_min,ep_min,net_min=l,ep,net\n",
    "        s_min=s\n",
    "    if l<l_min:\n",
    "        l_min,ep_min,net_min=l,ep,net\n",
    "        s_min=s\n",
    "print(l_min)\n",
    "l,ep,net=train(s_min,best_lr,best_a,ep_min,best_act)  \n",
    "torch.save([s_min,best_lr,best_a,best_ep,act,net],\"model/%.4f.pkl\" %(best_l))\n",
    "np.save(\"model/%.4f.npy\"%(best_l),[mean,std])\n"
   ]
  },
  {
   "cell_type": "code",
   "execution_count": 60,
   "metadata": {},
   "outputs": [],
   "source": []
  },
  {
   "cell_type": "code",
   "execution_count": null,
   "metadata": {},
   "outputs": [],
   "source": []
  },
  {
   "cell_type": "code",
   "execution_count": null,
   "metadata": {},
   "outputs": [],
   "source": []
  },
  {
   "cell_type": "code",
   "execution_count": null,
   "metadata": {},
   "outputs": [],
   "source": []
  }
 ],
 "metadata": {
  "accelerator": "GPU",
  "colab": {
   "collapsed_sections": [],
   "name": "TS",
   "provenance": []
  },
  "kernelspec": {
   "display_name": "Python 3",
   "language": "python",
   "name": "python3"
  },
  "language_info": {
   "codemirror_mode": {
    "name": "ipython",
    "version": 3
   },
   "file_extension": ".py",
   "mimetype": "text/x-python",
   "name": "python",
   "nbconvert_exporter": "python",
   "pygments_lexer": "ipython3",
   "version": "3.7.4"
  }
 },
 "nbformat": 4,
 "nbformat_minor": 1
}
