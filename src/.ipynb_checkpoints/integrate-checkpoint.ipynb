{
 "cells": [
  {
   "cell_type": "code",
   "execution_count": 1,
   "metadata": {},
   "outputs": [],
   "source": [
    "import torch\n",
    "import pandas as pd\n",
    "import numpy as np\n",
    "import random\n",
    "import torch.nn as nn\n",
    "from sklearn.model_selection import train_test_split\n",
    "from sklearn.model_selection import KFold\n",
    "import matplotlib.pyplot as plt\n",
    "from func import loadMS_class,loadTS\n",
    "import os\n",
    "from joblib import dump, load\n",
    "from sklearn.metrics import roc_curve, auc\n"
   ]
  },
  {
   "cell_type": "code",
   "execution_count": 2,
   "metadata": {},
   "outputs": [],
   "source": [
    "# plot tensile\n",
    "def plotTs(*models):\n",
    "    x_tr,x_te,y_tr,y_te,mean,std = splitTs()\n",
    "    x_tr = norm(x_tr,mean,std)\n",
    "    x_te = norm(x_te,mean,std)\n",
    "    y_tr = y_tr.reshape(-1)\n",
    "    y_te = y_te.reshape(-1)\n",
    "    pred_tr = np.mean(predictTs(x_tr,*models),axis=1)\n",
    "    pred_te = np.mean(predictTs(x_te,*models),axis=1)\n",
    "    p1,=plt.plot(pred_tr,y_tr,\".\")\n",
    "    p2,=plt.plot(pred_te,y_te,\".\")\n",
    "    plt.legend([p1,p2],[\"train\",\"val\"],fontsize=16)\n",
    "    plt.xticks(fontsize=16 ) \n",
    "    plt.yticks(fontsize=16 ) \n",
    "    plt.xlabel(\"prediction\",fontsize=20)\n",
    "    plt.ylabel(\"ground truth\",fontsize=20)\n",
    "    plt.tight_layout()\n",
    "    plt.savefig(\"tensile.png\",dpi=600)\n",
    "    mse_tr = np.mean((pred_tr - y_tr)**2)\n",
    "    mse_te = np.mean((pred_te - y_te)**2)\n",
    "    return pred_tr,pred_te,mse_tr,mse_te\n",
    "# plotTs(NNModel,SVRModel,XGBModel)\n",
    "def plotMs(*models):\n",
    "    MsDataset = splitMs()\n",
    "    sig = nn.Sigmoid()\n",
    "    x_tr,x_te,y_tr,y_te,mean,std = splitMs()\n",
    "    x_tr = norm(x_tr,mean,std)\n",
    "    x_te = norm(x_te,mean,std)\n",
    "    y_tr = y_tr.reshape(-1)\n",
    "    y_te = y_te.reshape(-1)\n",
    "    pred_tr = np.mean(predictMs(x_tr,*models),axis=1)\n",
    "    pred_te = np.mean(predictMs(x_te,*models),axis=1)\n",
    "    fpr,tpr,thres=roc_curve(y_tr,pred_tr)\n",
    "    p1,=plt.plot(fpr,tpr)\n",
    "    fpr,tpr,thres=roc_curve(y_te,pred_te)\n",
    "    p2,=plt.plot(fpr,tpr)\n",
    "    plt.legend([p1,p2],[\"train\",\"val\"],fontsize=16)\n",
    "    plt.xticks(fontsize=16 ) \n",
    "    plt.yticks(fontsize=16 ) \n",
    "    plt.xlabel(\"FPR\",fontsize=20)\n",
    "    plt.ylabel(\"TPR\",fontsize=20)\n",
    "    plt.title(\"ROC Curve\",fontsize=24)\n",
    "    plt.tight_layout()\n",
    "    plt.savefig(\"Ms.png\",dpi=600)\n",
    "    return pred_tr,pred_te\n",
    "# plotTs(NNModel)\n",
    "# plt.clf()\n",
    "# plotMs(NNModel)\n",
    "# plt.clf()"
   ]
  },
  {
   "cell_type": "code",
   "execution_count": 3,
   "metadata": {},
   "outputs": [],
   "source": [
    "def norm(x,mean,std):\n",
    "    x = x.copy()\n",
    "    for i in range(x.shape[0]):\n",
    "        for j in range(x.shape[1]):\n",
    "            if not std[j] == 0 :\n",
    "                x[i][j] = (x[i][j]- mean[j]) / std[j]\n",
    "    return x\n",
    "    \n",
    "def splitTs():    \n",
    "    df = pd.read_excel(\"../data/tensile.xlsx\")\n",
    "    y = df[\"E (GPa)\"].values\n",
    "    col=['Ti', 'Nb', 'Zr', 'Sn', 'Mo', 'Ta']\n",
    "    x = df[col].values\n",
    "    del df\n",
    "    x_tr,x_te,y_tr,y_te= train_test_split(x, y, test_size=0.2,random_state=0)\n",
    "    mean = np.mean(x_tr, axis = 0) \n",
    "    std = np.std(x_tr, axis = 0)\n",
    "    return x_tr,x_te,y_tr,y_te, mean, std"
   ]
  },
  {
   "cell_type": "code",
   "execution_count": 4,
   "metadata": {},
   "outputs": [],
   "source": [
    "def splitMs():\n",
    "    df = pd.read_excel(\"../data/stability.xlsx\")\n",
    "    col=['Ti', 'Nb', 'Zr', 'Sn', 'Mo', 'Ta']\n",
    "    x = df[col].values\n",
    "    y = df[\"stability\"].values\n",
    "    x_tr,x_te,y_tr,y_te= train_test_split(x, y, test_size=0.2, random_state=0)\n",
    "    mean = np.mean(x_tr, axis = 0) \n",
    "    std = np.std(x_tr, axis = 0)\n",
    "    return x_tr,x_te,y_tr,y_te, mean, std\n",
    "def predictTs(TsInput,*models):\n",
    "    pred = []\n",
    "    for model in models:\n",
    "        if type(model) == torch.nn.modules.container.Sequential:\n",
    "            if type(TsInput) == np.ndarray:\n",
    "                TsInput = torch.tensor(TsInput,dtype=torch.float)\n",
    "            model.eval()\n",
    "            pred.append(model(TsInput)[:,0].detach().numpy().reshape(-1))\n",
    "        else:\n",
    "            if type(TsInput) == torch.Tensor:\n",
    "                TsInput = TsInput.detach().numpy()\n",
    "            pred.append(model.predict(TsInput))\n",
    "    return np.array(pred).T\n",
    "def predictMs(MsInput,*models):\n",
    "    sig = nn.Sigmoid()\n",
    "    pred = []\n",
    "    for model in models:\n",
    "        if type(model) == torch.nn.modules.container.Sequential:\n",
    "            if type(MsInput) == np.ndarray:\n",
    "                MsInput = torch.tensor(MsInput,dtype=torch.float)\n",
    "            model.eval()\n",
    "            pred.append(sig(model(torch.tensor(MsInput,dtype=torch.float))[:,-1]).detach().numpy().reshape(-1))\n",
    "        else:\n",
    "            if type(MsInput) == torch.Tensor:\n",
    "                MsInput = MsInput.detach().numpy()\n",
    "            pred.append(model.predict_proba(MsInput)[:,1])\n",
    "    return np.array(pred).T\n"
   ]
  },
  {
   "cell_type": "code",
   "execution_count": 75,
   "metadata": {},
   "outputs": [
    {
     "name": "stdout",
     "output_type": "stream",
     "text": [
      "../models/40.50_0.92_0_1913_10_CELU(alpha=1.0)_26_0.06.pkl\n",
      "../modelPBT/20.95_0.88_-0.171_5_0.2.pkl\n",
      "../modelPBTdropout/56.99_0.90_-5.753_0.210_2.pkl\n",
      "../single/reg/46.58_0_1821_CELU(alpha=1.0)_24_0.09.pkl\n",
      "../singlePBT/reg/16.05_SELU()_28_0.1.pkl\n",
      "../singlePBTDropout/reg/39.73_SELU()_23_0.1.pkl\n",
      "../svmPBT/reg/75.69_0.0_scale_rbf_0.4.joblib\n",
      "../xgbPBT/reg/65.25_0.064_3_127_0.1.joblib\n",
      "../svm/reg/82.08_2.0_auto_rbf.joblib\n",
      "../xgb/reg/80.69_0.050_6_120.joblib\n"
     ]
    }
   ],
   "source": [
    "roots = [\"models\",\"modelPBT\",\"modelPBTdropout\",\"single/reg\",\"singlePBT/reg\",\"singlePBTDropout/reg\",\"svmPBT/reg\",\"xgbPBT/reg\",\"svm/reg\",\"xgb/reg\"]\n",
    "models = []\n",
    "for root in roots:\n",
    "    root = \"../\" + root + \"/\"\n",
    "    modelPath = root+sorted(os.listdir(root))[0]\n",
    "    print(modelPath)\n",
    "    if \".pkl\" in modelPath:\n",
    "        models.append(torch.load(modelPath))\n",
    "    else:\n",
    "        models.append(load(modelPath))\n",
    "modelNames = [\"multi\",\"multiPBT\",\"multilPBTDropout\",\"single/reg\",\"singlePBT/reg\",\"singlePBTDropout/reg\",\"svmPBT/reg\",\"xgbPBT/reg\",\"svm/reg\",\"xgb/reg\"]\n",
    "    \n",
    "header = [\"Ti\",\"Nb\",\"Zr\",\"Sn\",\"Mo\",\"Ta\",*modelNames,\"truth\",\"isTrain\"]\n",
    "x_tr,x_te,y_tr,y_te,TsMean, TsStd = splitTs()\n",
    "TsInput = np.concatenate([x_tr,x_te],axis=0)\n",
    "TsRaw = TsInput.copy()\n",
    "TsInput = norm(TsInput,TsMean,TsStd)\n",
    "TsOutput = predictTs(TsInput,*models)\n",
    "# TsEnsemble = np.mean(TsOutput,axis=1).reshape(-1,1)\n",
    "TsTruth = np.concatenate([y_tr,y_te],axis=0).reshape(-1,1)\n",
    "isTrain = np.concatenate([np.ones([len(x_tr)]),np.zeros([len(x_te)])]).reshape(-1,1)\n",
    "df = pd.DataFrame(np.concatenate([TsRaw,TsOutput,TsTruth,isTrain],axis=1),columns=header)\n",
    "df.to_csv(\"../output/TsOutput.csv\",index=0)\n"
   ]
  },
  {
   "cell_type": "code",
   "execution_count": 79,
   "metadata": {},
   "outputs": [
    {
     "name": "stdout",
     "output_type": "stream",
     "text": [
      "../models/40.50_0.92_0_1913_10_CELU(alpha=1.0)_26_0.06.pkl\n",
      "../modelPBT/20.95_0.88_-0.171_5_0.2.pkl\n",
      "../modelPBTdropout/56.99_0.90_-5.753_0.210_2.pkl\n",
      "../single/cls/0.97_0_1269_PReLU(num_parameters=1)_10_0.05.pkl\n",
      "../singlePBT/cls/0.97_SELU()_9_0.5.pkl\n",
      "../singlePBTDropout/cls/0.95_Softplus(beta=1, threshold=20)_15_0.2.pkl\n",
      "../svmPBT/cls/0.93_9.9_ovr_auto_poly_0.3.joblib\n",
      "../xgbPBT/cls/0.93_0.149_3_56_0.2.joblib\n",
      "../svm/cls/0.93_2.0_9_ovr_scale_poly.joblib\n",
      "../xgb/cls/0.92_0.009_4_9.joblib\n"
     ]
    }
   ],
   "source": [
    "roots = [\"models\",\"modelPBT\",\"modelPBTdropout\",\"single/cls\",\"singlePBT/cls\",\"singlePBTDropout/cls\",\"svmPBT/cls\",\"xgbPBT/cls\",\"svm/cls\",\"xgb/cls\"]\n",
    "models = []\n",
    "for root in roots:\n",
    "    root = \"../\" + root + \"/\"\n",
    "    if \"model\" in root:\n",
    "        modelPath = root+sorted(os.listdir(root))[0]\n",
    "    else:\n",
    "        modelPath = root+sorted(os.listdir(root))[-1]\n",
    "    print(modelPath)\n",
    "    if \".pkl\" in modelPath:\n",
    "        models.append(torch.load(modelPath))\n",
    "    else:\n",
    "        models.append(load(modelPath))\n",
    "modelNames = [\"multi\",\"multiPBT\",\"multilPBTDropout\",\"single/cls\",\"singlePBT/cls\",\"singlePBTDropout/cls\",\"svmPBT/cls\",\"xgbPBT/cls\",\"svm/cls\",\"xgb/cls\"]"
   ]
  },
  {
   "cell_type": "code",
   "execution_count": 86,
   "metadata": {},
   "outputs": [
    {
     "name": "stderr",
     "output_type": "stream",
     "text": [
      "/home/kisaki/anaconda3/lib/python3.7/site-packages/ipykernel_launcher.py:31: UserWarning: To copy construct from a tensor, it is recommended to use sourceTensor.clone().detach() or sourceTensor.clone().detach().requires_grad_(True), rather than torch.tensor(sourceTensor).\n"
     ]
    }
   ],
   "source": [
    "header = [\"Ti\",\"Nb\",\"Zr\",\"Sn\",\"Mo\",\"Ta\",*modelNames,\"truth\",\"isTrain\"]\n",
    "x_tr,x_te,y_tr,y_te,MsMean, MsStd = splitMs()\n",
    "MsInput = np.concatenate([x_tr,x_te],axis=0)\n",
    "MsRaw = MsInput.copy()\n",
    "MsInput = norm(MsInput,MsMean,MsStd)\n",
    "MsOutput = predictMs(MsInput,*models)\n",
    "# MsEnsemble = np.mean(MsOutput,axis=1).reshape(-1,1)\n",
    "MsTruth = np.concatenate([y_tr,y_te],axis=0).reshape(-1,1)\n",
    "isTrain = np.concatenate([np.ones([len(x_tr)]),np.zeros([len(x_te)])]).reshape(-1,1)\n",
    "df = pd.DataFrame(np.concatenate([MsRaw,MsOutput,MsTruth,isTrain],axis=1),columns=header)\n",
    "df.to_csv(\"../output/MsOutput.csv\",index=0)"
   ]
  },
  {
   "cell_type": "code",
   "execution_count": 96,
   "metadata": {},
   "outputs": [
    {
     "name": "stdout",
     "output_type": "stream",
     "text": [
      "../models/40.50_0.92_0_1913_10_CELU(alpha=1.0)_26_0.06.pkl\n",
      "../modelPBT/20.95_0.88_-0.171_5_0.2.pkl\n",
      "../single/reg/46.58_0_1821_CELU(alpha=1.0)_24_0.09.pkl\n",
      "../singlePBT/reg/16.05_SELU()_28_0.1.pkl\n",
      "../models/40.50_0.92_0_1913_10_CELU(alpha=1.0)_26_0.06.pkl\n",
      "../modelPBT/20.95_0.88_-0.171_5_0.2.pkl\n",
      "../single/cls/0.97_0_1269_PReLU(num_parameters=1)_10_0.05.pkl\n",
      "../singlePBT/cls/0.97_SELU()_9_0.5.pkl\n"
     ]
    },
    {
     "name": "stderr",
     "output_type": "stream",
     "text": [
      "/home/kisaki/anaconda3/lib/python3.7/site-packages/ipykernel_launcher.py:31: UserWarning: To copy construct from a tensor, it is recommended to use sourceTensor.clone().detach() or sourceTensor.clone().detach().requires_grad_(True), rather than torch.tensor(sourceTensor).\n"
     ]
    }
   ],
   "source": [
    "df = pd.read_excel(\"../output/alloys.xlsx\",index_col=0)\n",
    "comp = df.iloc[:,:6].values.astype(\"float\")\n",
    "TsInput = norm(comp,TsMean,TsStd)\n",
    "MsInput = norm(comp,MsMean,MsStd)\n",
    "roots = [\"models\",\"modelPBT\",\"single/reg\",\"singlePBT/reg\"]\n",
    "models = []\n",
    "for root in roots:\n",
    "    root = \"../\" + root + \"/\"\n",
    "    modelPath = root+sorted(os.listdir(root))[0]\n",
    "    print(modelPath)\n",
    "    if \".pkl\" in modelPath:\n",
    "        models.append(torch.load(modelPath))\n",
    "    else:\n",
    "        models.append(load(modelPath))\n",
    "TsCol = [\"multiR\",\"multiRPBT\",\"single/reg\",\"singlePBT/reg\"]        \n",
    "for name,value in zip(TsCol,predictTs(TsInput,*models).T):\n",
    "    df[name] =  value\n",
    "roots = [\"models\",\"modelPBT\",\"single/cls\",\"singlePBT/cls\"]\n",
    "models = []\n",
    "for root in roots:\n",
    "    root = \"../\" + root + \"/\"\n",
    "    if \"model\" in root:\n",
    "        modelPath = root+sorted(os.listdir(root))[0]\n",
    "    else:\n",
    "        modelPath = root+sorted(os.listdir(root))[-1]\n",
    "    print(modelPath)\n",
    "    if \".pkl\" in modelPath:\n",
    "        models.append(torch.load(modelPath))\n",
    "    else:\n",
    "        models.append(load(modelPath))\n",
    "MsCol = [\"multiC\",\"multiCPBT\",\"single/cls\",\"singlePBT/cls\"]\n",
    "for name,value in zip(MsCol,predictMs(MsInput,*models).T):\n",
    "    df[name] = value\n",
    "df.to_csv(\"../output/11alloys.csv\",index=0)"
   ]
  },
  {
   "cell_type": "code",
   "execution_count": 21,
   "metadata": {},
   "outputs": [
    {
     "name": "stderr",
     "output_type": "stream",
     "text": [
      "/home/kisaki/anaconda3/lib/python3.7/site-packages/ipykernel_launcher.py:31: UserWarning: To copy construct from a tensor, it is recommended to use sourceTensor.clone().detach() or sourceTensor.clone().detach().requires_grad_(True), rather than torch.tensor(sourceTensor).\n"
     ]
    }
   ],
   "source": [
    "df = pd.read_excel(\"../output/alloys.xlsx\",index_col=0)\n",
    "comp = df.iloc[:,:6].values.astype(\"float\")\n",
    "TsInput = norm(comp,TsMean,TsStd)\n",
    "MsInput = norm(comp,MsMean,MsStd)\n",
    "rootsR = [\"../modelPBT/\",\"../singlePBT/reg/\"]\n",
    "TsCol = [\"multiRPBT_5ensemble\",\"singlePBT/reg_5ensemble\"]        \n",
    "models = []\n",
    "for rootR,name in zip(rootsR,TsCol):\n",
    "    models = [torch.load(rootR+ele) for ele in sorted(os.listdir(rootR))[:5]]\n",
    "    for j,value in enumerate(predictTs(TsInput,*models).T):\n",
    "        df[name+str(j+1)] =  value\n",
    "rootsC = [\"../modelPBT/\",\"../singlePBT/cls/\"]\n",
    "MsCol = [\"multiCPBT_5ensemble\",\"singlePBT/cls_5ensemble\"]\n",
    "models = []\n",
    "for rootC,name in zip(rootsC,MsCol):\n",
    "    if \"model\" in rootC:\n",
    "        models = [torch.load(rootC+ele) for ele in sorted(os.listdir(rootC))[:5]]\n",
    "    else:\n",
    "        models = [torch.load(rootC+ele) for ele in sorted(os.listdir(rootC))[-5:]]        \n",
    "    for j,value in enumerate(predictMs(MsInput,*models).T):\n",
    "        df[name+str(j+1)] =  value\n",
    "df.to_csv(\"../output/11alloys_5ensemble_repective.csv\",index=0)"
   ]
  },
  {
   "cell_type": "code",
   "execution_count": 5,
   "metadata": {},
   "outputs": [],
   "source": [
    "x_tr,x_te,y_tr,y_te,TsMean, TsStd = splitTs()\n",
    "x_tr,x_te,y_tr,y_te,MsMean, MsStd = splitMs()\n",
    "comp=[]\n",
    "for Ti in range(51,101):\n",
    "    for Nb in range(0,21):\n",
    "        if Nb+Ti>100:\n",
    "            break\n",
    "        for Zr in range(0,21):\n",
    "            if Nb+Ti+Zr>100:\n",
    "                break\n",
    "            for Sn in range(0,21):\n",
    "                if Nb+Ti+Zr+Sn>100:\n",
    "                    break\n",
    "                for Mo in range(0,21):\n",
    "                    if Nb+Ti+Zr+Sn+Mo>100 or Nb+Ti+Zr+Sn+Mo<=80:\n",
    "                        break\n",
    "                    else:\n",
    "                        comp.append([Ti,Nb,Zr,Sn,Mo,100-(Nb+Ti+Zr+Sn+Mo)])\n",
    "comp=np.array(comp).astype(\"float\")\n",
    "TsInput = norm(comp,TsMean,TsStd)\n",
    "MsInput = norm(comp,MsMean,MsStd)"
   ]
  },
  {
   "cell_type": "code",
   "execution_count": 7,
   "metadata": {},
   "outputs": [],
   "source": [
    "def correlation(comp,TsInput,MsInput,RModel,CModel,name=\"../output/\"):\n",
    "    comp = comp.copy()\n",
    "    if type(RModel) == list and type(CModel) == list:\n",
    "        predTs = np.mean(predictTs(TsInput,*RModel),axis=1).reshape(-1)\n",
    "        predMs = np.mean(predictMs(MsInput,*CModel),axis=1).reshape(-1)\n",
    "    else:\n",
    "        predTs = predictTs(TsInput,RModel).reshape(-1)\n",
    "        predMs = predictMs(MsInput,CModel).reshape(-1)\n",
    "#     comp = comp[predMs > 0.5]\n",
    "#     predTs = predTs[predMs > 0.5]\n",
    "#     predMs = predMs[predMs > 0.5]\n",
    "    mat=np.concatenate([comp,predTs.reshape(-1,1),predMs.reshape(-1,1)],axis=1)\n",
    "    cov=np.cov(mat.T)\n",
    "    coef=np.empty([8,2])\n",
    "    for i in range(8):\n",
    "        coef[i,0]=cov[i,6]/np.sqrt(cov[i,i]*cov[6,6])\n",
    "        coef[i,1]=cov[i,7]/np.sqrt(cov[i,i]*cov[7,7])\n",
    "    pd.DataFrame(coef,columns=[\"tensile\",\"Ms\"],index=[\"Ti\",\"Nb\",\"Zr\",\"Sn\",\"Mo\",\"Ta\",\"tensile\",\"Ms\"]).to_csv(name)"
   ]
  },
  {
   "cell_type": "code",
   "execution_count": 8,
   "metadata": {},
   "outputs": [
    {
     "name": "stderr",
     "output_type": "stream",
     "text": [
      "/home/kisaki/anaconda3/lib/python3.7/site-packages/ipykernel_launcher.py:31: UserWarning: To copy construct from a tensor, it is recommended to use sourceTensor.clone().detach() or sourceTensor.clone().detach().requires_grad_(True), rather than torch.tensor(sourceTensor).\n"
     ]
    }
   ],
   "source": [
    "for rootR,rootC,name in zip([\"models\",\"modelPBT\",\"single/reg\",\"singlePBT/reg\"],\\\n",
    "                            [\"models\",\"modelPBT\",\"single/cls\",\"singlePBT/cls\"],\\\n",
    "                            [\"multi\",\"multiPBT\",\"single\",\"singlePBT\"]):\n",
    "    rootR = \"../\"+rootR+\"/\"\n",
    "    rootC = \"../\"+rootC+\"/\"\n",
    "    modelR = torch.load(rootR+sorted(os.listdir(rootR))[0])\n",
    "    if \"model\" in rootR:\n",
    "        modelC = modelR\n",
    "    else:\n",
    "        modelC = torch.load(rootC+sorted(os.listdir(rootC))[-1])\n",
    "    correlation(comp,TsInput,MsInput,modelR,modelC,\"../output/\"+name+\"_correlation.csv\")\n"
   ]
  },
  {
   "cell_type": "code",
   "execution_count": 9,
   "metadata": {},
   "outputs": [
    {
     "name": "stderr",
     "output_type": "stream",
     "text": [
      "/home/kisaki/anaconda3/lib/python3.7/site-packages/ipykernel_launcher.py:31: UserWarning: To copy construct from a tensor, it is recommended to use sourceTensor.clone().detach() or sourceTensor.clone().detach().requires_grad_(True), rather than torch.tensor(sourceTensor).\n"
     ]
    }
   ],
   "source": [
    "## ensemble\n",
    "for rootR,rootC,name in zip([\"modelPBT\",\"singlePBT/reg\"],\\\n",
    "                            [\"modelPBT\",\"singlePBT/cls\"],\\\n",
    "                            [\"multiPBT_5ensemble\",\"singlePBT_5ensemble\"]):\n",
    "    rootR = \"../\"+rootR+\"/\"\n",
    "    rootC = \"../\"+rootC+\"/\"\n",
    "    modelR = [torch.load(rootR+ele) for ele in sorted(os.listdir(rootR))[:5]]\n",
    "    if \"model\" in rootR:\n",
    "        modelC = modelR\n",
    "    else:\n",
    "        modelC = [torch.load(rootC+ele) for ele in sorted(os.listdir(rootC))[-5:]]\n",
    "    \n",
    "    correlation(comp,TsInput,MsInput,modelR,modelC,\"../output/\"+name+\"_correlation.csv\")\n"
   ]
  },
  {
   "cell_type": "code",
   "execution_count": null,
   "metadata": {},
   "outputs": [],
   "source": []
  },
  {
   "cell_type": "code",
   "execution_count": null,
   "metadata": {},
   "outputs": [],
   "source": []
  }
 ],
 "metadata": {
  "kernelspec": {
   "display_name": "Python 3",
   "language": "python",
   "name": "python3"
  },
  "language_info": {
   "codemirror_mode": {
    "name": "ipython",
    "version": 3
   },
   "file_extension": ".py",
   "mimetype": "text/x-python",
   "name": "python",
   "nbconvert_exporter": "python",
   "pygments_lexer": "ipython3",
   "version": "3.7.4"
  }
 },
 "nbformat": 4,
 "nbformat_minor": 2
}
