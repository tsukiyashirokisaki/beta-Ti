{
 "cells": [
  {
   "cell_type": "code",
   "execution_count": 1,
   "metadata": {},
   "outputs": [],
   "source": [
    "\n",
    "\n",
    "import torch\n",
    "from torch.autograd import Variable\n",
    "from torch.nn import functional as F\n",
    "import pandas as pd\n",
    "import numpy as np\n",
    "import os\n",
    "from collections import Counter\n",
    "from multiprocessing import Pool\n",
    "from  func import BN,load,output\n"
   ]
  },
  {
   "cell_type": "code",
   "execution_count": 2,
   "metadata": {},
   "outputs": [],
   "source": [
    "\n",
    "\n",
    "mean_T,std_T,model_T,_=load(\"../Ti_reg/model\")\n",
    "#output(np.array([[65,11.6,11.4,12,0,0]]),mean_T,std_T,model_T)\n",
    "mean_M,std_M,model_M,_=load(\"../Ms_reg/model\")\n",
    "#output(np.array([[62.5,26,4,7.5,0,0,0]]),mean_M,std_M,model_M)\n",
    "\n",
    "point=[]\n",
    "for Ti in range(41,101):\n",
    "    for Nb in range(0,20):\n",
    "        if Nb+Ti>100:\n",
    "            break\n",
    "        for Zr in range(0,20):\n",
    "            if Nb+Ti+Zr>100:\n",
    "                break\n",
    "            for Sn in range(0,20):\n",
    "                if Nb+Ti+Zr+Sn>100:\n",
    "                    break\n",
    "                for Mo in range(0,20):\n",
    "                    if Nb+Ti+Zr+Sn+Mo>100 or Nb+Ti+Zr+Sn+Mo<=80:\n",
    "                        break\n",
    "                    else:\n",
    "                        point.append([Ti,Nb,Zr,Sn,Mo,100-(Nb+Ti+Zr+Sn+Mo),0])\n",
    "point=np.array(point)\n",
    "\n",
    "\n"
   ]
  },
  {
   "cell_type": "code",
   "execution_count": 3,
   "metadata": {},
   "outputs": [],
   "source": [
    "\n",
    "#point[0,:-1]\n",
    "#TS=result(point[:,:-1],mean_T,std_T,model_T)\n",
    "T=[];M=[]\n",
    "if __name__ == '__main__':\n",
    "    p = Pool(processes=5) \n",
    "    for i in range(len(mean_M)):\n",
    "        t=p.apply_async(output,(point[:,:-1],mean_T[i],std_T[i],model_T[i],))\n",
    "        m=p.apply_async(output,(point[:,:],mean_M[i],std_M[i],model_M[i],))\n",
    "        T.append(t)\n",
    "        M.append(m)\n",
    "    p.close()\n",
    "    p.join()\n"
   ]
  },
  {
   "cell_type": "code",
   "execution_count": 4,
   "metadata": {},
   "outputs": [],
   "source": [
    "tensile=[]\n",
    "Ms=[]\n",
    "for i in range(len(T)):\n",
    "    tensile.append(T[i].get())\n",
    "    Ms.append(M[i].get())\n",
    "tensile=np.array(tensile)\n",
    "Ms=np.array(Ms)\n",
    "Ts_mean=np.mean(tensile,axis=0)\n",
    "Ms_mean=np.mean(Ms,axis=0)\n",
    "val_ind=[]\n",
    "for i,ele in enumerate(Ms_mean<300):\n",
    "    if ele:\n",
    "        val_ind.append(i)\n",
    "Ts_mean=Ts_mean[val_ind]\n",
    "Ms_mean=Ms_mean[val_ind]\n",
    "point=point[val_ind]"
   ]
  },
  {
   "cell_type": "code",
   "execution_count": 5,
   "metadata": {},
   "outputs": [],
   "source": [
    "mat=np.concatenate([point,Ts_mean.reshape(-1,1),Ms_mean.reshape(-1,1)],axis=1)"
   ]
  },
  {
   "cell_type": "code",
   "execution_count": 6,
   "metadata": {},
   "outputs": [],
   "source": [
    "#Pearson Correaltion Coefficient\n",
    "cov=np.cov(mat.T)"
   ]
  },
  {
   "cell_type": "code",
   "execution_count": 7,
   "metadata": {},
   "outputs": [],
   "source": [
    "coef=np.empty([6,2])\n",
    "for i in range(6):\n",
    "    coef[i,0]=cov[i,7]/np.sqrt(cov[i,i]*cov[7,7])\n",
    "    coef[i,1]=cov[i,8]/np.sqrt(cov[i,i]*cov[8,8])\n",
    "    \n",
    "    "
   ]
  },
  {
   "cell_type": "code",
   "execution_count": 8,
   "metadata": {},
   "outputs": [],
   "source": [
    "pd.DataFrame(coef,columns=[\"tensile\",\"Ms\"]).to_excel(\"correlation.xlsx\")\n"
   ]
  },
  {
   "cell_type": "code",
   "execution_count": 36,
   "metadata": {},
   "outputs": [
    {
     "data": {
      "text/plain": [
       "(8, 7)"
      ]
     },
     "execution_count": 36,
     "metadata": {},
     "output_type": "execute_result"
    }
   ],
   "source": []
  },
  {
   "cell_type": "code",
   "execution_count": 12,
   "metadata": {},
   "outputs": [],
   "source": [
    "df=pd.read_excel(\"../../test/0122.xlsx\").values\n",
    "df=np.concatenate([df,np.zeros([len(df),1])],axis=1)\n",
    "def simple_output(data,mean,std,model):\n",
    "    ret=np.empty([len(mean),len(data)])\n",
    "\n",
    "    for i in range(len(mean)):\n",
    "        #print(mean[i],std[i],model[i])\n",
    "        ret[i]=output(data,mean[i],std[i],model[i])\n",
    "    return ret\n",
    "        \n",
    "samp_T=simple_output(df[:,:-1],mean_T,std_T,model_T)\n",
    "samp_M=simple_output(df,mean_M,std_M,model_M)\n"
   ]
  },
  {
   "cell_type": "code",
   "execution_count": 13,
   "metadata": {},
   "outputs": [],
   "source": [
    "df=np.concatenate([df[:,:-1],np.mean(samp_T,axis=0).reshape(-1,1),np.std(samp_T,axis=0).reshape(-1,1),\n",
    "                  np.mean(samp_M,axis=0).reshape(-1,1),np.std(samp_M,axis=0).reshape(-1,1)],axis=1)"
   ]
  },
  {
   "cell_type": "code",
   "execution_count": 14,
   "metadata": {},
   "outputs": [],
   "source": [
    "with pd.ExcelWriter('../../test/testing_output.xlsx') as writer:  \n",
    "    pd.DataFrame(df).to_excel(writer,sheet_name=\"original\")\n",
    "    pd.DataFrame(samp_T.T).to_excel(writer,sheet_name=\"tensile\")\n",
    "    pd.DataFrame(samp_M.T).to_excel(writer,sheet_name=\"Ms\")"
   ]
  },
  {
   "cell_type": "code",
   "execution_count": 74,
   "metadata": {},
   "outputs": [],
   "source": [
    "df=pd.read_excel(\"../../data/Ms0811.xlsx\")\n",
    "y=df[\"Ms (K)\"].values\n",
    "df[\"method\"]=df[\"method\"].map({'DSC': 0,\"DMA(50MPa)\":50,\"DMA(100MPa)\":100,\"DMA(0MPa)\":0})\n",
    "df[\"method\"].fillna(0,inplace=True)\n",
    "df=df.iloc[:,1:8].values"
   ]
  },
  {
   "cell_type": "code",
   "execution_count": 75,
   "metadata": {},
   "outputs": [
    {
     "name": "stdout",
     "output_type": "stream",
     "text": [
      "0 32.84581454645057\n",
      "../Ms_reg/model/16.58.npy\n",
      "1 33.26015946946728\n",
      "../Ms_reg/model/16.91.npy\n",
      "2 25.786511384289547\n",
      "../Ms_reg/model/18.70.npy\n",
      "3 31.39347377794763\n",
      "../Ms_reg/model/18.85.npy\n"
     ]
    }
   ],
   "source": [
    "for i in range(len(mean_M)):\n",
    "    print(i,np.sqrt(np.sum((output(df,mean_M[i],std_M[i],model_M[i])-y)**2)/len(y)))\n",
    "    print(name[2*i])"
   ]
  },
  {
   "cell_type": "code",
   "execution_count": null,
   "metadata": {},
   "outputs": [],
   "source": []
  },
  {
   "cell_type": "code",
   "execution_count": null,
   "metadata": {},
   "outputs": [],
   "source": []
  },
  {
   "cell_type": "code",
   "execution_count": null,
   "metadata": {},
   "outputs": [],
   "source": []
  }
 ],
 "metadata": {
  "kernelspec": {
   "display_name": "Python 3",
   "language": "python",
   "name": "python3"
  },
  "language_info": {
   "codemirror_mode": {
    "name": "ipython",
    "version": 3
   },
   "file_extension": ".py",
   "mimetype": "text/x-python",
   "name": "python",
   "nbconvert_exporter": "python",
   "pygments_lexer": "ipython3",
   "version": "3.7.4"
  }
 },
 "nbformat": 4,
 "nbformat_minor": 2
}
