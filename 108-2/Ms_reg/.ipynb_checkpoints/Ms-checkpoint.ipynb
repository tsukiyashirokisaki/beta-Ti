{
 "cells": [
  {
   "cell_type": "code",
   "execution_count": 12,
   "metadata": {
    "colab": {},
    "colab_type": "code",
    "id": "98EWTiPBWsA1"
   },
   "outputs": [],
   "source": [
    "\n",
    "import torch\n",
    "import torch.nn.functional as F\n",
    "import pandas as pd\n",
    "import numpy as np\n",
    "import random\n",
    "import torch.nn as nn\n",
    "from sklearn.model_selection import train_test_split\n"
   ]
  },
  {
   "cell_type": "code",
   "execution_count": 13,
   "metadata": {
    "colab": {},
    "colab_type": "code",
    "id": "Qn82YimkW3wO"
   },
   "outputs": [],
   "source": [
    "df=pd.read_excel(\"../../data/Ms0811.xlsx\")\n",
    "#df=df[(df[\"method\"]==\"DSC\") | (df[\"method\"]==\"DMA(50MPa)\") | (df[\"method\"]==\"DMA(100MPa)\")|(df[\"method\"]==\"DMA(0MPa)\")]\n",
    "df[\"method\"]=df[\"method\"].map({'DSC': 0,\"DMA(50MPa)\":50,\"DMA(100MPa)\":100,\"DMA(0MPa)\":0})\n",
    "df[\"method\"].fillna(0,inplace=True)\n",
    "\n",
    "y=df[\"Ms (K)\"].values\n",
    "col=['Ti', 'Nb', 'Zr', 'Sn', 'Mo', 'Ta','method']\n",
    "x = df[col].values\n",
    "\n",
    "x_tr,x_te,y_tr,y_te= train_test_split(x, y, test_size=0.2)\n",
    "mean = np.mean(x_tr, axis = 0) \n",
    "std = np.std(x_tr, axis = 0)\n",
    "for i in range(x_tr.shape[0]):\n",
    "    for j in range(x_tr.shape[1]):\n",
    "        if not std[j] == 0 :\n",
    "            x_tr[i][j] = (x_tr[i][j]- mean[j]) / std[j]\n",
    "for i in range(x_te.shape[0]):\n",
    "    for j in range(x_te.shape[1]):\n",
    "        if not std[j] == 0 :\n",
    "            x_te[i][j] = (x_te[i][j]- mean[j]) / std[j]\n",
    "\n",
    "x_tr = torch.tensor(x_tr).float()\n",
    "x_te = torch.tensor(x_te).float()\n",
    "y_tr = torch.unsqueeze(torch.tensor(y_tr).float(),dim=1)\n",
    "y_te = torch.unsqueeze(torch.tensor(y_te).float(),dim=1)\n"
   ]
  },
  {
   "cell_type": "code",
   "execution_count": 14,
   "metadata": {
    "colab": {},
    "colab_type": "code",
    "id": "YcG4RXhghN9q"
   },
   "outputs": [
    {
     "name": "stdout",
     "output_type": "stream",
     "text": [
      "30.637993496764967 1.0 6 1496 ReLU()\n"
     ]
    }
   ],
   "source": [
    "loss_func = nn.MSELoss()\n",
    "f=x.shape[1]    \n",
    "\n",
    "def train(s,LR,a,EPOCH,act):\n",
    "    torch.manual_seed(s)\n",
    "    net=nn.Sequential(\n",
    "        nn.Linear(f, a),\n",
    "        act,\n",
    "        nn.Linear(a, a),\n",
    "        act,\n",
    "        nn.Linear(a, 1))\n",
    "    optimizer=torch.optim.Adam(net.parameters(), lr=LR, betas=(0.9, 0.99)) \n",
    "    for t in range(EPOCH):  \n",
    "        prediction = net(x_tr)\n",
    "        loss = loss_func(prediction, y_tr)\n",
    "        optimizer.zero_grad()\n",
    "        loss.backward()\n",
    "        optimizer.step()\n",
    "        now=loss_func(net(x_te),y_te)\n",
    "        \n",
    "        if t==0:\n",
    "            loss_ = now\n",
    "            best_ep=1\n",
    "        else:\n",
    "            if loss_ > now:\n",
    "                loss_=now\n",
    "                best_ep=t+1\n",
    "    return loss_.item()**0.5,best_ep,net\n",
    "act_list=[nn.PReLU(),nn.CELU(),nn.SELU(),nn.Softplus(),nn.ReLU()]\n",
    "act_list=[nn.ReLU()]\n",
    "c=0\n",
    "for act in act_list:\n",
    "    for i in range(1,11):\n",
    "        LR=i/10\n",
    "        for a in range(5,10):\n",
    "            if c==0:\n",
    "                best_l,best_ep,_=train(0,LR,a,2000,act)\n",
    "                best_lr=LR\n",
    "                best_a=a\n",
    "                c+=1\n",
    "            else:\n",
    "                l,ep,_=train(0,LR,a,2000,act)\n",
    "                if l<best_l:\n",
    "                    best_act=act\n",
    "                    best_l=l\n",
    "                    best_lr=LR\n",
    "                    best_ep=ep\n",
    "                    best_a=a\n",
    "print(best_l,best_lr,best_a,best_ep,best_act)"
   ]
  },
  {
   "cell_type": "code",
   "execution_count": 15,
   "metadata": {
    "colab": {},
    "colab_type": "code",
    "id": "M4eidkkZ6Fqr"
   },
   "outputs": [
    {
     "name": "stdout",
     "output_type": "stream",
     "text": [
      "30.085382647116813\n"
     ]
    }
   ],
   "source": [
    "for s in range(10):\n",
    "    l,ep,net=train(s,best_lr,best_a,best_ep,best_act)\n",
    "    if s==0:\n",
    "        l_min,ep_min,net_min=l,ep,net\n",
    "        s_min=s\n",
    "    if l<l_min:\n",
    "        l_min,ep_min,net_min=l,ep,net\n",
    "        s_min=s\n",
    "print(l_min)\n",
    "#torch.save([best_lr,best_a,best_ep,act,net],\"%.2f.pkl\" %(best_l))"
   ]
  },
  {
   "cell_type": "code",
   "execution_count": 20,
   "metadata": {},
   "outputs": [],
   "source": [
    "l,ep,net=train(s_min,best_lr,best_a,best_ep,best_act)\n",
    "torch.save([s_min,best_lr,best_a,best_ep,act,net],\"model/%.2f.pkl\" %(l))\n",
    "np.save(\"model/%.2f.npy\" %(l),[mean,std])"
   ]
  },
  {
   "cell_type": "code",
   "execution_count": null,
   "metadata": {},
   "outputs": [],
   "source": []
  },
  {
   "cell_type": "code",
   "execution_count": null,
   "metadata": {},
   "outputs": [],
   "source": []
  }
 ],
 "metadata": {
  "accelerator": "GPU",
  "colab": {
   "collapsed_sections": [],
   "name": "Ms2_1 (7).ipynb",
   "private_outputs": true,
   "provenance": []
  },
  "kernelspec": {
   "display_name": "Python 3",
   "language": "python",
   "name": "python3"
  },
  "language_info": {
   "codemirror_mode": {
    "name": "ipython",
    "version": 3
   },
   "file_extension": ".py",
   "mimetype": "text/x-python",
   "name": "python",
   "nbconvert_exporter": "python",
   "pygments_lexer": "ipython3",
   "version": "3.7.4"
  }
 },
 "nbformat": 4,
 "nbformat_minor": 1
}
