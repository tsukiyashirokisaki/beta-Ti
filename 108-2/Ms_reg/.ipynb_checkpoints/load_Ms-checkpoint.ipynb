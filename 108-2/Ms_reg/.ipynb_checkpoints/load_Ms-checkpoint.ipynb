{
 "cells": [
  {
   "cell_type": "code",
   "execution_count": 1,
   "metadata": {
    "colab": {
     "base_uri": "https://localhost:8080/",
     "height": 124
    },
    "colab_type": "code",
    "executionInfo": {
     "elapsed": 15128,
     "status": "ok",
     "timestamp": 1568773082108,
     "user": {
      "displayName": "林柏勳",
      "photoUrl": "",
      "userId": "03298278139644892583"
     },
     "user_tz": -480
    },
    "id": "miNzr9f9jFAQ",
    "outputId": "aefaf6ed-4abf-4ec8-fdcb-036d3f439557"
   },
   "outputs": [],
   "source": [
    "\n",
    "import torch\n",
    "import torch.nn.functional as F\n",
    "import pandas as pd\n",
    "import numpy as np\n",
    "import random\n",
    "import torch.nn as nn\n",
    "from sklearn.model_selection import train_test_split\n",
    "from sklearn.model_selection import KFold\n",
    "import os"
   ]
  },
  {
   "cell_type": "code",
   "execution_count": null,
   "metadata": {
    "colab": {},
    "colab_type": "code",
    "id": "_M1qH9XIjFAU"
   },
   "outputs": [],
   "source": [
    "def avg(x,can):\n",
    "    i=0\n",
    "    for net in can:\n",
    "        if i==0:\n",
    "            a=net(x)\n",
    "            i=1\n",
    "        else:\n",
    "            a+=net(x)\n",
    "    a/=len(can)\n",
    "        \n",
    "    return a"
   ]
  },
  {
   "cell_type": "code",
   "execution_count": null,
   "metadata": {
    "colab": {
     "base_uri": "https://localhost:8080/",
     "height": 35
    },
    "colab_type": "code",
    "executionInfo": {
     "elapsed": 1081,
     "status": "ok",
     "timestamp": 1568773158674,
     "user": {
      "displayName": "林柏勳",
      "photoUrl": "",
      "userId": "03298278139644892583"
     },
     "user_tz": -480
    },
    "id": "j5DujJ-RjFAX",
    "outputId": "8a82a369-134f-4cc3-a312-fdd4ceede533",
    "scrolled": true
   },
   "outputs": [],
   "source": []
  },
  {
   "cell_type": "code",
   "execution_count": null,
   "metadata": {
    "colab": {},
    "colab_type": "code",
    "id": "zfbTto3Tqltq"
   },
   "outputs": [],
   "source": []
  },
  {
   "cell_type": "code",
   "execution_count": null,
   "metadata": {
    "colab": {},
    "colab_type": "code",
    "id": "BcMNzNeZjFAa"
   },
   "outputs": [],
   "source": []
  },
  {
   "cell_type": "code",
   "execution_count": 24,
   "metadata": {
    "colab": {
     "base_uri": "https://localhost:8080/",
     "height": 87
    },
    "colab_type": "code",
    "executionInfo": {
     "elapsed": 1455,
     "status": "ok",
     "timestamp": 1568773176756,
     "user": {
      "displayName": "林柏勳",
      "photoUrl": "",
      "userId": "03298278139644892583"
     },
     "user_tz": -480
    },
    "id": "tlHocBlGjFAd",
    "outputId": "076c34a7-206c-4f39-f00b-18226c141280"
   },
   "outputs": [
    {
     "data": {
      "text/plain": [
       "tensor([[11310.2441],\n",
       "        [11618.1680],\n",
       "        [11727.8320]], grad_fn=<AddmmBackward>)"
      ]
     },
     "execution_count": 24,
     "metadata": {},
     "output_type": "execute_result"
    }
   ],
   "source": [
    "\n",
    "\n",
    "net=torch.load(\"28.14_best.pkl\")[-1]\n",
    "net(x__)"
   ]
  },
  {
   "cell_type": "code",
   "execution_count": 0,
   "metadata": {
    "colab": {
     "base_uri": "https://localhost:8080/",
     "height": 369
    },
    "colab_type": "code",
    "executionInfo": {
     "elapsed": 2902,
     "status": "ok",
     "timestamp": 1568705454028,
     "user": {
      "displayName": "林柏勳",
      "photoUrl": "",
      "userId": "03298278139644892583"
     },
     "user_tz": -480
    },
    "id": "j9hcUocBv7gM",
    "outputId": "a0f7404d-6adc-4baa-b9ce-e66cb9767825"
   },
   "outputs": [
    {
     "name": "stdout",
     "output_type": "stream",
     "text": [
      "26 tensor([66.1400, 25.6600,  0.0000,  8.2000,  0.0000,  0.0000], device='cuda:0') [360.] [296.4824] [-63.51761]\n",
      "27 tensor([65.8100, 25.6000,  0.0000,  8.5900,  0.0000,  0.0000], device='cuda:0') [330.] [288.65292] [-41.347076]\n",
      "32 tensor([64.5200, 25.3500,  0.0000, 10.1200,  0.0000,  0.0000], device='cuda:0') [210.] [257.9968] [47.996796]\n",
      "33 tensor([51.3200, 28.2500, 20.4400,  0.0000,  0.0000,  0.0000], device='cuda:0') [523.] [415.10626] [-107.89374]\n",
      "42 tensor([59.6600, 40.3400,  0.0000,  2.1000,  0.0000, 50.0000], device='cuda:0') [440.] [398.1511] [-41.848907]\n",
      "69 tensor([64.6000, 35.4000,  0.0000,  0.0000,  0.0000,  0.0000], device='cuda:0') [342.] [386.19138] [44.191376]\n"
     ]
    },
    {
     "data": {
      "image/png": "[encoded data removed]",
      "text/plain": [
       "<Figure size 432x288 with 1 Axes>"
      ]
     },
     "metadata": {
      "tags": []
     },
     "output_type": "display_data"
    }
   ],
   "source": [
    "for name in name_list:\n",
    "    print(name)\n",
    "    name=path+\"/\"+name\n",
    "    net = torch.load(name)\n",
    "    net_list.append(net)\n",
    "    loss_func = nn.MSELoss()  # this is for regression mean squared loss\n",
    "    loss_a=loss_func(avg(X,net),Y).item()\n",
    "    correct=((avg(x__,net)<298)==y__.byte()).sum()\n",
    "    total=x__.size(0)\n",
    "    acc=100*correct/total\n",
    "    print(\"%.3f %d\" %(loss_a**0.5,acc.item()))\n",
    "    #print(net)\n",
    "#model=torch.load(path+\"/\"+\"net29.588325301385765.pkl\")\n",
    "#loss_func = nn.MSELoss()  # this is for regression mean squared loss\n",
    "#loss=loss_func(model(x), y).item()\n",
    "#loss_=loss_func(model(x_),y_).item()\n",
    "#loss_a=loss_func(model(torch.cat((x,x_),0).cuda()),torch.cat((y,y_),0).cuda()).item()\n",
    "#print(loss**0.5)\n",
    "import matplotlib.pyplot as plt\n",
    "a=avg(X,net).cpu().detach().numpy()\n",
    "b=Y.cpu().detach().numpy()\n",
    "#plt.plot(b,b-a,\".\")\n",
    "plt.plot(a,b)\n",
    "#b[b-a>100],X.cpu().detach().numpy()[:,b-a>100]\n",
    "for i in range(72):\n",
    "    if abs(b[i]-a[i])>40:\n",
    "        print(i,X[i],b[i],a[i],-b[i]+a[i])\n"
   ]
  },
  {
   "cell_type": "code",
   "execution_count": 0,
   "metadata": {
    "colab": {},
    "colab_type": "code",
    "id": "PdXPlCCEjlcV"
   },
   "outputs": [],
   "source": [
    "#N=[]\n",
    "#for i in range(3):\n",
    "#    for j in range(len(net_list[0])):\n",
    "#        N.append(net_list[i][j])\n",
    "#loss_func = nn.MSELoss()  # this is for regression mean squared loss\n",
    "#loss_a=loss_func(avg(X,N),Y).item()\n",
    "#correct=((avg(x__,N)<298)==y__.byte()).sum()\n",
    "#total=x__.size(0)\n",
    "#acc=100*correct/total\n",
    "#print(\"%.3f %d\" %(loss_a**0.5,acc.item()))\n",
    "    "
   ]
  },
  {
   "cell_type": "code",
   "execution_count": 0,
   "metadata": {
    "colab": {},
    "colab_type": "code",
    "id": "TIha5YCWjFAn"
   },
   "outputs": [],
   "source": [
    "def choose_net(a,b,c,i):\n",
    "    f=X.shape[1]\n",
    "    act=nn.PReLU()\n",
    "    \n",
    "    net2=nn.Sequential(\n",
    "        nn.Linear(f, a),\n",
    "        act,\n",
    "        nn.Linear(a, b),\n",
    "        act,\n",
    "        nn.Linear(b, 1)).cuda()\n",
    "    net3=nn.Sequential(\n",
    "        nn.Linear(f, a),\n",
    "        act,\n",
    "        nn.Linear(a, 1)).cuda()\n",
    "    \n",
    "    net=[net2,net3][i]\n",
    "    return net\n",
    "def choose_opt(net,j,LR):\n",
    "    opt_SGD         = torch.optim.SGD(net.parameters(), lr=LR)\n",
    "    opt_Momentum    = torch.optim.SGD(net.parameters(), lr=LR, momentum=0.8)\n",
    "    opt_RMSprop     = torch.optim.RMSprop(net.parameters(), lr=LR, alpha=0.9)\n",
    "    opt_Adam        = torch.optim.Adam(net.parameters(), lr=LR, betas=(0.9, 0.99))\n",
    "    opt_Adadelta    = torch.optim.Adadelta(net.parameters(), lr=LR)\n",
    "    opt=[opt_SGD, opt_Momentum, opt_RMSprop, opt_Adam,opt_Adadelta][j]\n",
    "    \n",
    "    return opt\n",
    "\n",
    "def train():\n",
    "    f=X.shape[1]\n",
    "    act=nn.PReLU()\n",
    "    a=15\n",
    "    \n",
    "    net=nn.Sequential(\n",
    "        nn.Linear(f, a),\n",
    "        act,\n",
    "        nn.Linear(a, 1)).cuda()\n",
    "    #LR=random.randint(1,1000)/1000\n",
    "    LR=0.3\n",
    "    #a=random.randint(5,15)\n",
    "    #b=random.randint(5,15)\n",
    "    #c=random.randint(5,15)\n",
    "    #i=random.randint(0,1)\n",
    "    #j=random.randint(0,4)\n",
    "    loss_func = nn.MSELoss()  # this is for regression mean squared loss\n",
    "    #EPOCH=random.randint(100,1200)\n",
    "    EPOCH=550\n",
    "        \n",
    "    loss_=0\n",
    "    count=0\n",
    "    optimizer=torch.optim.Adam(net.parameters(), lr=LR, betas=(0.9, 0.99))\n",
    "    for t in range(EPOCH):  \n",
    "        \n",
    "        prediction = net(X)\n",
    "        loss = loss_func(prediction, Y)\n",
    "        optimizer.zero_grad()\n",
    "        loss.backward()\n",
    "        optimizer.step()\n",
    "    prediction = net(X)\n",
    "    loss = loss_func(prediction, Y)\n",
    "    print(\"%.3f\"%(loss))\n",
    "        \n",
    "    return loss,optimizer,EPOCH,LR,net\n",
    "\n",
    "\n"
   ]
  },
  {
   "cell_type": "code",
   "execution_count": 0,
   "metadata": {
    "colab": {
     "base_uri": "https://localhost:8080/",
     "height": 597
    },
    "colab_type": "code",
    "executionInfo": {
     "elapsed": 8508,
     "status": "ok",
     "timestamp": 1568384158857,
     "user": {
      "displayName": "林柏勳",
      "photoUrl": "",
      "userId": "03298278139644892583"
     },
     "user_tz": -480
    },
    "id": "FUg1qp3So9YK",
    "outputId": "74fff941-9cb2-4d6a-a69d-67ee2249629c"
   },
   "outputs": [
    {
     "name": "stdout",
     "output_type": "stream",
     "text": [
      "0\n",
      "241.808\n",
      "78\n",
      "1\n",
      "539.913\n",
      "57\n",
      "2\n",
      "1079.450\n",
      "57\n",
      "3\n",
      "1936.179\n",
      "71\n",
      "4\n",
      "455.125\n",
      "57\n",
      "5\n",
      "529.526\n",
      "71\n",
      "6\n",
      "890.921\n",
      "71\n",
      "7\n",
      "502.850\n",
      "78\n",
      "8\n",
      "440.966\n",
      "71\n",
      "9\n",
      "350.278\n",
      "64\n",
      "10\n",
      "224.029\n",
      "57\n"
     ]
    }
   ],
   "source": [
    "can=[]\n",
    "num=0\n",
    "while num<10:\n",
    "    num=len(can)\n",
    "    print(num)\n",
    "    data=train()\n",
    "    loss=data[0]\n",
    "    net=data[-1]\n",
    "    correct=((net(x__)<298)==y__.byte()).sum()\n",
    "    total=x__.size(0)\n",
    "    acc=100*correct/total\n",
    "    print(\"%d\" %(acc))\n",
    "    #if loss> 700 and loss< 1100:\n",
    "    #if acc==100:    \n",
    "    if True:\n",
    "        can.append(net)\n",
    "        \n",
    "    "
   ]
  },
  {
   "cell_type": "code",
   "execution_count": 0,
   "metadata": {
    "colab": {
     "base_uri": "https://localhost:8080/",
     "height": 360
    },
    "colab_type": "code",
    "executionInfo": {
     "elapsed": 8501,
     "status": "error",
     "timestamp": 1568384158860,
     "user": {
      "displayName": "林柏勳",
      "photoUrl": "",
      "userId": "03298278139644892583"
     },
     "user_tz": -480
    },
    "id": "kDT6kR6gjFAq",
    "outputId": "2853b736-5d05-4c78-815e-0e812bb406a8"
   },
   "outputs": [
    {
     "ename": "TypeError",
     "evalue": "ignored",
     "output_type": "error",
     "traceback": [
      "\u001b[0;31m---------------------------------------------------------------------------\u001b[0m",
      "\u001b[0;31mTypeError\u001b[0m                                 Traceback (most recent call last)",
      "\u001b[0;32m<ipython-input-40-6e1103c3f8c0>\u001b[0m in \u001b[0;36m<module>\u001b[0;34m()\u001b[0m\n\u001b[1;32m     11\u001b[0m     \u001b[0;32mreturn\u001b[0m \u001b[0ma\u001b[0m\u001b[0;34m\u001b[0m\u001b[0;34m\u001b[0m\u001b[0m\n\u001b[1;32m     12\u001b[0m \u001b[0mcan\u001b[0m\u001b[0;34m=\u001b[0m\u001b[0mnet_list\u001b[0m\u001b[0;34m\u001b[0m\u001b[0;34m\u001b[0m\u001b[0m\n\u001b[0;32m---> 13\u001b[0;31m \u001b[0mloss_a\u001b[0m\u001b[0;34m=\u001b[0m\u001b[0mloss_func\u001b[0m\u001b[0;34m(\u001b[0m\u001b[0mMs\u001b[0m\u001b[0;34m(\u001b[0m\u001b[0mX\u001b[0m\u001b[0;34m,\u001b[0m\u001b[0mcan\u001b[0m\u001b[0;34m)\u001b[0m\u001b[0;34m,\u001b[0m\u001b[0mY\u001b[0m\u001b[0;34m)\u001b[0m\u001b[0;34m.\u001b[0m\u001b[0mitem\u001b[0m\u001b[0;34m(\u001b[0m\u001b[0;34m)\u001b[0m\u001b[0;34m\u001b[0m\u001b[0;34m\u001b[0m\u001b[0m\n\u001b[0m\u001b[1;32m     14\u001b[0m \u001b[0mcorrect\u001b[0m\u001b[0;34m=\u001b[0m\u001b[0;34m(\u001b[0m\u001b[0;34m(\u001b[0m\u001b[0mMs\u001b[0m\u001b[0;34m(\u001b[0m\u001b[0mx__\u001b[0m\u001b[0;34m,\u001b[0m\u001b[0mcan\u001b[0m\u001b[0;34m)\u001b[0m\u001b[0;34m<\u001b[0m\u001b[0;36m298\u001b[0m\u001b[0;34m)\u001b[0m\u001b[0;34m==\u001b[0m\u001b[0my__\u001b[0m\u001b[0;34m.\u001b[0m\u001b[0mbyte\u001b[0m\u001b[0;34m(\u001b[0m\u001b[0;34m)\u001b[0m\u001b[0;34m)\u001b[0m\u001b[0;34m.\u001b[0m\u001b[0msum\u001b[0m\u001b[0;34m(\u001b[0m\u001b[0;34m)\u001b[0m\u001b[0;34m\u001b[0m\u001b[0;34m\u001b[0m\u001b[0m\n\u001b[1;32m     15\u001b[0m \u001b[0mtotal\u001b[0m\u001b[0;34m=\u001b[0m\u001b[0mx__\u001b[0m\u001b[0;34m.\u001b[0m\u001b[0msize\u001b[0m\u001b[0;34m(\u001b[0m\u001b[0;36m0\u001b[0m\u001b[0;34m)\u001b[0m\u001b[0;34m\u001b[0m\u001b[0;34m\u001b[0m\u001b[0m\n",
      "\u001b[0;32m<ipython-input-40-6e1103c3f8c0>\u001b[0m in \u001b[0;36mMs\u001b[0;34m(x, can)\u001b[0m\n\u001b[1;32m      3\u001b[0m     \u001b[0;32mfor\u001b[0m \u001b[0mnet\u001b[0m \u001b[0;32min\u001b[0m \u001b[0mcan\u001b[0m\u001b[0;34m:\u001b[0m\u001b[0;34m\u001b[0m\u001b[0;34m\u001b[0m\u001b[0m\n\u001b[1;32m      4\u001b[0m         \u001b[0;32mif\u001b[0m \u001b[0mi\u001b[0m\u001b[0;34m==\u001b[0m\u001b[0;36m0\u001b[0m\u001b[0;34m:\u001b[0m\u001b[0;34m\u001b[0m\u001b[0;34m\u001b[0m\u001b[0m\n\u001b[0;32m----> 5\u001b[0;31m             \u001b[0ma\u001b[0m\u001b[0;34m=\u001b[0m\u001b[0mnet\u001b[0m\u001b[0;34m(\u001b[0m\u001b[0mx\u001b[0m\u001b[0;34m)\u001b[0m\u001b[0;34m\u001b[0m\u001b[0;34m\u001b[0m\u001b[0m\n\u001b[0m\u001b[1;32m      6\u001b[0m             \u001b[0mi\u001b[0m\u001b[0;34m=\u001b[0m\u001b[0;36m1\u001b[0m\u001b[0;34m\u001b[0m\u001b[0;34m\u001b[0m\u001b[0m\n\u001b[1;32m      7\u001b[0m         \u001b[0;32melse\u001b[0m\u001b[0;34m:\u001b[0m\u001b[0;34m\u001b[0m\u001b[0;34m\u001b[0m\u001b[0m\n",
      "\u001b[0;31mTypeError\u001b[0m: 'list' object is not callable"
     ]
    }
   ],
   "source": [
    "def Ms(x,can):\n",
    "    i=0\n",
    "    for net in can:\n",
    "        if i==0:\n",
    "            a=net(x)\n",
    "            i=1\n",
    "        else:\n",
    "            a+=net(x)\n",
    "    a/=len(can)\n",
    "        \n",
    "    return a\n",
    "can=net_list\n",
    "loss_a=loss_func(Ms(X,can),Y).item()\n",
    "correct=((Ms(x__,can)<298)==y__.byte()).sum()\n",
    "total=x__.size(0)\n",
    "acc=100*correct/total\n",
    "print(\"%.3f %d\" %(loss_a**0.5,acc.item()))"
   ]
  },
  {
   "cell_type": "code",
   "execution_count": 0,
   "metadata": {
    "colab": {},
    "colab_type": "code",
    "id": "ix-RN0wGjFAt"
   },
   "outputs": [],
   "source": [
    "for net in can:\n",
    "    loss_a=loss_func(net(X),Y).item()\n",
    "    correct=((net(x__)<298)==y__.byte()).sum()\n",
    "    total=x__.size(0)\n",
    "    acc=100*correct/total\n",
    "    print(\"%.3f %d\" %(loss_a,acc.item()))\n",
    "    "
   ]
  },
  {
   "cell_type": "code",
   "execution_count": 0,
   "metadata": {
    "colab": {},
    "colab_type": "code",
    "id": "_X8_mQYPjFAw"
   },
   "outputs": [],
   "source": [
    "path=\"/content/drive/My Drive/beta2.1/CV_SM/0818-2\"\n",
    "torch.save(can,path+\"/net_acc71(NS).pkl\")"
   ]
  },
  {
   "cell_type": "code",
   "execution_count": 0,
   "metadata": {
    "colab": {},
    "colab_type": "code",
    "id": "c8bhjEmW9KNW"
   },
   "outputs": [],
   "source": [
    "(Ms(x__,can))<298"
   ]
  },
  {
   "cell_type": "code",
   "execution_count": 0,
   "metadata": {
    "colab": {
     "base_uri": "https://localhost:8080/",
     "height": 34
    },
    "colab_type": "code",
    "executionInfo": {
     "elapsed": 1085,
     "status": "ok",
     "timestamp": 1568384167135,
     "user": {
      "displayName": "林柏勳",
      "photoUrl": "",
      "userId": "03298278139644892583"
     },
     "user_tz": -480
    },
    "id": "lsZtCl98o7-V",
    "outputId": "93bd75cb-def9-4138-c6fd-cd2f5ec8dff7"
   },
   "outputs": [
    {
     "name": "stdout",
     "output_type": "stream",
     "text": [
      "26.224 71\n"
     ]
    }
   ],
   "source": [
    "path=\"/content/drive/My Drive/beta2.1/CV_SM/0901\"\n",
    "nl=torch.load(path+\"/net40.843_904_0.421.pkl\")\n",
    "loss_func=nn.MSELoss()\n",
    "loss_a=loss_func(avg(X,nl),Y).item()\n",
    "correct=((avg(x__,nl)<298)==y__.byte()).sum()\n",
    "total=x__.size(0)\n",
    "acc=100*correct/total\n",
    "print(\"%.3f %d\" %(loss_a**0.5,acc.item()))"
   ]
  },
  {
   "cell_type": "code",
   "execution_count": 0,
   "metadata": {
    "colab": {
     "base_uri": "https://localhost:8080/",
     "height": 34
    },
    "colab_type": "code",
    "executionInfo": {
     "elapsed": 1760,
     "status": "ok",
     "timestamp": 1568384172399,
     "user": {
      "displayName": "林柏勳",
      "photoUrl": "",
      "userId": "03298278139644892583"
     },
     "user_tz": -480
    },
    "id": "1t3TE0aGaxkZ",
    "outputId": "f13ba717-3076-417f-b867-a8b14c790593"
   },
   "outputs": [
    {
     "name": "stdout",
     "output_type": "stream",
     "text": [
      "MAPE= 6.074419\n"
     ]
    }
   ],
   "source": [
    "#MAPE\n",
    "print(\"MAPE= %f\"%(100*sum(abs(avg(X,nl)-Y)/Y)/len(Y)))"
   ]
  },
  {
   "cell_type": "code",
   "execution_count": 0,
   "metadata": {
    "colab": {
     "base_uri": "https://localhost:8080/",
     "height": 1000
    },
    "colab_type": "code",
    "executionInfo": {
     "elapsed": 1732,
     "status": "ok",
     "timestamp": 1568717684600,
     "user": {
      "displayName": "林柏勳",
      "photoUrl": "",
      "userId": "03298278139644892583"
     },
     "user_tz": -480
    },
    "id": "pLP4NdD8hTxN",
    "outputId": "298ba2a5-dedc-49e5-e674-6e4384efa3df"
   },
   "outputs": [
    {
     "data": {
      "text/plain": [
       "array([[207.26334],\n",
       "       [229.90701],\n",
       "       [383.88177],\n",
       "       [279.93417],\n",
       "       [756.2116 ],\n",
       "       [647.25745],\n",
       "       [558.63544],\n",
       "       [455.2441 ],\n",
       "       [393.7236 ],\n",
       "       [361.06912],\n",
       "       [330.61337],\n",
       "       [315.66858],\n",
       "       [294.05814],\n",
       "       [272.4476 ],\n",
       "       [467.21524],\n",
       "       [416.2879 ],\n",
       "       [337.29916],\n",
       "       [259.5325 ],\n",
       "       [338.81906],\n",
       "       [393.1901 ],\n",
       "       [259.44324],\n",
       "       [247.1574 ],\n",
       "       [232.82405],\n",
       "       [221.07567],\n",
       "       [209.39   ],\n",
       "       [201.03105],\n",
       "       [296.4824 ],\n",
       "       [288.65292],\n",
       "       [281.03955],\n",
       "       [273.21014],\n",
       "       [265.59674],\n",
       "       [261.79013],\n",
       "       [257.9968 ],\n",
       "       [415.10626],\n",
       "       [212.43188],\n",
       "       [333.3108 ],\n",
       "       [403.44214],\n",
       "       [456.32217],\n",
       "       [419.24463],\n",
       "       [351.21234],\n",
       "       [290.32346],\n",
       "       [386.75424],\n",
       "       [398.1511 ],\n",
       "       [394.06284],\n",
       "       [365.43307],\n",
       "       [409.78394],\n",
       "       [494.99615],\n",
       "       [347.79782],\n",
       "       [392.69604],\n",
       "       [434.94855],\n",
       "       [316.1961 ],\n",
       "       [358.98312],\n",
       "       [400.8846 ],\n",
       "       [441.48044],\n",
       "       [344.80518],\n",
       "       [304.71304],\n",
       "       [282.35028],\n",
       "       [285.1936 ],\n",
       "       [408.727  ],\n",
       "       [285.12323],\n",
       "       [231.0482 ],\n",
       "       [467.42307],\n",
       "       [432.715  ],\n",
       "       [369.92514],\n",
       "       [338.81906],\n",
       "       [200.50078],\n",
       "       [393.1901 ],\n",
       "       [257.09726],\n",
       "       [724.5775 ],\n",
       "       [386.19138],\n",
       "       [832.7962 ],\n",
       "       [911.0548 ]], dtype=float32)"
      ]
     },
     "execution_count": 11,
     "metadata": {
      "tags": []
     },
     "output_type": "execute_result"
    }
   ],
   "source": [
    "avg(X,net).cpu().detach().numpy()"
   ]
  },
  {
   "cell_type": "code",
   "execution_count": 0,
   "metadata": {
    "colab": {},
    "colab_type": "code",
    "id": "4VatAdMB3DhK"
   },
   "outputs": [],
   "source": []
  }
 ],
 "metadata": {
  "accelerator": "GPU",
  "colab": {
   "collapsed_sections": [],
   "name": "load_Ms.ipynb",
   "provenance": []
  },
  "kernelspec": {
   "display_name": "Python 3",
   "language": "python",
   "name": "python3"
  },
  "language_info": {
   "codemirror_mode": {
    "name": "ipython",
    "version": 3
   },
   "file_extension": ".py",
   "mimetype": "text/x-python",
   "name": "python",
   "nbconvert_exporter": "python",
   "pygments_lexer": "ipython3",
   "version": "3.7.4"
  }
 },
 "nbformat": 4,
 "nbformat_minor": 1
}
